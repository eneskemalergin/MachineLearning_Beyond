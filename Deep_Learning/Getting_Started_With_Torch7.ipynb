{
 "cells": [
  {
   "cell_type": "markdown",
   "metadata": {},
   "source": [
    "# Getting_Started_With_Torch7\n",
    "\n",
    "I am following a tutorial to learn torch7 and to make this itorch notebook, which is in the resource link. \n",
    "\n",
    "Resource: [Link](http://code.madbits.com/wiki/doku.php?id=tutorial_basics)\n",
    "\n",
    "For these tutorials, we assume that Torch is already installed, as well as extra packages (image, nnx, unsup). To install Torch on your machine, follow the instructions available [here](http://www.torch.ch/)\n",
    "\n",
    "If you use terminal/interpreter version of torch tyo"
   ]
  },
  {
   "cell_type": "code",
   "execution_count": 1,
   "metadata": {
    "collapsed": true
   },
   "outputs": [],
   "source": [
    "a = 10"
   ]
  }
 ],
 "metadata": {
  "kernelspec": {
   "display_name": "iTorch",
   "language": "lua",
   "name": "itorch"
  },
  "language_info": {
   "name": "lua",
   "version": "20100"
  }
 },
 "nbformat": 4,
 "nbformat_minor": 0
}

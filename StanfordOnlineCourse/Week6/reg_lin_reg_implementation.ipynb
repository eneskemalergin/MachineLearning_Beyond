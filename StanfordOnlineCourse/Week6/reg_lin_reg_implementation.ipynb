{
 "cells": [
  {
   "cell_type": "code",
   "execution_count": 2,
   "metadata": {
    "collapsed": false
   },
   "outputs": [
    {
     "name": "stdout",
     "output_type": "stream",
     "text": [
      "\u001b[H\u001b[2J\n",
      "\u001b[H\u001b[2J\n"
     ]
    }
   ],
   "source": [
    "%% Initialization\n",
    "clear ; close all; clc"
   ]
  },
  {
   "cell_type": "code",
   "execution_count": 4,
   "metadata": {
    "collapsed": false
   },
   "outputs": [
    {
     "name": "stdout",
     "output_type": "stream",
     "text": [
      "Loading and Visualizing Data ...\n"
     ]
    },
    {
     "data": {
      "image/png": "[encoded data removed]",
      "text/plain": [
       "<IPython.core.display.Image object>"
      ]
     },
     "metadata": {},
     "output_type": "display_data"
    }
   ],
   "source": [
    "% Load Training Data\n",
    "fprintf('Loading and Visualizing Data ...\\n')\n",
    "\n",
    "% Load from ex5data1:\n",
    "% You will have X, y, Xval, yval, Xtest, ytest in your environment\n",
    "load('./data/ex5data1.mat');\n",
    "\n",
    "% m = Number of examples\n",
    "m = size(X, 1);\n",
    "\n",
    "% Plot training data\n",
    "plot(X, y, 'rx', 'MarkerSize', 10, 'LineWidth', 1.5);\n",
    "xlabel('Change in water level (x)');\n",
    "ylabel('Water flowing out of the dam (y)');"
   ]
  },
  {
   "cell_type": "code",
   "execution_count": 6,
   "metadata": {
    "collapsed": false
   },
   "outputs": [
    {
     "name": "stdout",
     "output_type": "stream",
     "text": [
      "Cost at theta = [1 ; 1]: 303.993192 \n"
     ]
    }
   ],
   "source": [
    "%% =========== Part 2: Regularized Linear Regression Cost =============\n",
    "theta = [1 ; 1];\n",
    "J = linearRegCostFunction([ones(m, 1) X], y, theta, 1);\n",
    "\n",
    "fprintf(['Cost at theta = [1 ; 1]: %f \\n'], J);"
   ]
  },
  {
   "cell_type": "code",
   "execution_count": 8,
   "metadata": {
    "collapsed": false
   },
   "outputs": [
    {
     "name": "stdout",
     "output_type": "stream",
     "text": [
      "Gradient at theta = [1 ; 1]:  [-15.303016; 598.250744] \n"
     ]
    }
   ],
   "source": [
    "%% =========== Part 3: Regularized Linear Regression Gradient =============\n",
    "theta = [1 ; 1];\n",
    "[J, grad] = linearRegCostFunction([ones(m, 1) X], y, theta, 1);\n",
    "\n",
    "fprintf(['Gradient at theta = [1 ; 1]:  [%f; %f] \\n'], grad(1), grad(2));"
   ]
  },
  {
   "cell_type": "code",
   "execution_count": 9,
   "metadata": {
    "collapsed": false
   },
   "outputs": [
    {
     "name": "stdout",
     "output_type": "stream",
     "text": [
      "Iteration     1 | Cost: 1.052435e+02\r",
      "Iteration     2 | Cost: 2.237391e+01\r\n"
     ]
    },
    {
     "data": {
      "image/png": "[encoded data removed]",
      "text/plain": [
       "<IPython.core.display.Image object>"
      ]
     },
     "metadata": {},
     "output_type": "display_data"
    }
   ],
   "source": [
    "%% =========== Part 4: Train Linear Regression =============\n",
    "%  Train linear regression with lambda = 0\n",
    "lambda = 0;\n",
    "[theta] = trainLinearReg([ones(m, 1) X], y, lambda);\n",
    "\n",
    "%  Plot fit over the data\n",
    "plot(X, y, 'rx', 'MarkerSize', 10, 'LineWidth', 1.5);\n",
    "xlabel('Change in water level (x)');\n",
    "ylabel('Water flowing out of the dam (y)');\n",
    "hold on;\n",
    "plot(X, [ones(m, 1) X]*theta, '--', 'LineWidth', 2)\n",
    "hold off;"
   ]
  },
  {
   "cell_type": "code",
   "execution_count": 10,
   "metadata": {
    "collapsed": false
   },
   "outputs": [
    {
     "name": "stdout",
     "output_type": "stream",
     "text": [
      "warning: division by zero.860761e-32\n",
      "warning: called from\n",
      "    fmincg at line 102 column 12\n",
      "    trainLinearReg at line 19 column 7\n",
      "    learningCurve at line 26 column 9\n",
      "warning: division by zero\n",
      "warning: division by zero\n",
      "warning: division by zero\n",
      "warning: division by zero\n",
      "warning: division by zero\n",
      "warning: division by zero\n",
      "warning: division by zero\n",
      "warning: division by zero\n",
      "warning: division by zero\n",
      "warning: division by zero\n",
      "warning: division by zero\n",
      "warning: division by zero\n",
      "warning: division by zero\n",
      "warning: division by zero\n",
      "warning: division by zero\n",
      "warning: division by zero\n",
      "\n",
      "Iteration    24 | Cost: 3.318146e-29\n",
      "Iteration    27 | Cost: 3.286595e+00\n",
      "Iteration    10 | Cost: 2.842678e+00\n",
      "Iteration     3 | Cost: 1.315405e+01\n",
      "Iteration    15 | Cost: 1.944396e+01\n",
      "Iteration     7 | Cost: 2.009852e+01\n",
      "Iteration     4 | Cost: 1.817286e+01\n",
      "Iteration    15 | Cost: 2.260941e+01\n",
      "Iteration     9 | Cost: 2.326146e+01\n",
      "Iteration     8 | Cost: 2.431725e+01\n",
      "Iteration    18 | Cost: 2.237391e+01\n",
      "# Training Examples\tTrain Error\tCross Validation Error\n",
      "  \t1\t\t0.000000\t204.827168\n",
      "  \t2\t\t0.000000\t110.300366\n",
      "  \t3\t\t3.286595\t45.010231\n",
      "  \t4\t\t2.842678\t48.368911\n",
      "  \t5\t\t13.154049\t35.865165\n",
      "  \t6\t\t19.443963\t33.829962\n",
      "  \t7\t\t20.098522\t31.970986\n",
      "  \t8\t\t18.172859\t30.862446\n",
      "  \t9\t\t22.609405\t31.135998\n",
      "  \t10\t\t23.261462\t28.936207\n",
      "  \t11\t\t24.317250\t29.551432\n",
      "  \t12\t\t22.373906\t29.433818\n"
     ]
    },
    {
     "data": {
      "image/png": "[encoded data removed]",
      "text/plain": [
       "<IPython.core.display.Image object>"
      ]
     },
     "metadata": {},
     "output_type": "display_data"
    }
   ],
   "source": [
    "%% =========== Part 5: Learning Curve for Linear Regression =============\n",
    "lambda = 0;\n",
    "[error_train, error_val] = learningCurve([ones(m, 1) X], y, [ones(size(Xval, 1), 1) Xval], yval, lambda);\n",
    "\n",
    "plot(1:m, error_train, 1:m, error_val);\n",
    "title('Learning curve for linear regression')\n",
    "legend('Train', 'Cross Validation')\n",
    "xlabel('Number of training examples')\n",
    "ylabel('Error')\n",
    "axis([0 13 0 150])\n",
    "\n",
    "fprintf('# Training Examples\\tTrain Error\\tCross Validation Error\\n');\n",
    "for i = 1:m\n",
    "    fprintf('  \\t%d\\t\\t%f\\t%f\\n', i, error_train(i), error_val(i));\n",
    "end"
   ]
  },
  {
   "cell_type": "code",
   "execution_count": 11,
   "metadata": {
    "collapsed": false
   },
   "outputs": [
    {
     "name": "stdout",
     "output_type": "stream",
     "text": [
      "Normalized Training Example 1:\n",
      "  1.000000  \n",
      "  -0.362141  \n",
      "  -0.755087  \n",
      "  0.182226  \n",
      "  -0.706190  \n",
      "  0.306618  \n",
      "  -0.590878  \n",
      "  0.344516  \n",
      "  -0.508481  \n"
     ]
    }
   ],
   "source": [
    "%% =========== Part 6: Feature Mapping for Polynomial Regression =============\n",
    "\n",
    "p = 8;\n",
    "\n",
    "% Map X onto Polynomial Features and Normalize\n",
    "X_poly = polyFeatures(X, p);\n",
    "[X_poly, mu, sigma] = featureNormalize(X_poly);  % Normalize\n",
    "X_poly = [ones(m, 1), X_poly];                   % Add Ones\n",
    "\n",
    "% Map X_poly_test and normalize (using mu and sigma)\n",
    "X_poly_test = polyFeatures(Xtest, p);\n",
    "X_poly_test = bsxfun(@minus, X_poly_test, mu);\n",
    "X_poly_test = bsxfun(@rdivide, X_poly_test, sigma);\n",
    "X_poly_test = [ones(size(X_poly_test, 1), 1), X_poly_test];         % Add Ones\n",
    "\n",
    "% Map X_poly_val and normalize (using mu and sigma)\n",
    "X_poly_val = polyFeatures(Xval, p);\n",
    "X_poly_val = bsxfun(@minus, X_poly_val, mu);\n",
    "X_poly_val = bsxfun(@rdivide, X_poly_val, sigma);\n",
    "X_poly_val = [ones(size(X_poly_val, 1), 1), X_poly_val];           % Add Ones\n",
    "\n",
    "fprintf('Normalized Training Example 1:\\n');\n",
    "fprintf('  %f  \\n', X_poly(1, :));"
   ]
  },
  {
   "cell_type": "code",
   "execution_count": 12,
   "metadata": {
    "collapsed": false
   },
   "outputs": [
    {
     "name": "stdout",
     "output_type": "stream",
     "text": [
      "Iteration   200 | Cost: 7.639825e-02\n",
      "warning: division by zero.000000e+00\n",
      "warning: called from\n",
      "    fmincg at line 124 column 8\n",
      "    trainLinearReg at line 19 column 7\n",
      "    learningCurve at line 26 column 9\n",
      "warning: division by zero\n",
      "warning: division by zero\n",
      "warning: division by zero\n",
      "warning: division by zero\n",
      "warning: division by zero\n",
      "warning: division by zero\n",
      "warning: division by zero\n",
      "warning: division by zero\n",
      "warning: division by zero\n",
      "warning: division by zero\n",
      "warning: division by zero\n",
      "warning: division by zero\n",
      "warning: division by zero\n",
      "warning: division by zero\n",
      "warning: division by zero\n",
      "warning: division by zero\n",
      "warning: division by zero\n",
      "warning: division by zero\n",
      "warning: division by zero\n",
      "warning: division by zero\n",
      "warning: division by zero\n",
      "warning: division by zero\n",
      "warning: division by zero\n",
      "warning: division by zero\n",
      "warning: division by zero\n",
      "warning: division by zero\n",
      "warning: division by zero\n",
      "warning: division by zero\n",
      "warning: division by zero\n",
      "warning: division by zero\n",
      "warning: division by zero\n",
      "warning: division by zero\n",
      "warning: division by zero\n",
      "warning: division by zero\n",
      "warning: division by zero\n",
      "warning: division by zero\n",
      "warning: division by zero\n",
      "warning: division by zero\n",
      "warning: division by zero\n",
      "\n",
      "Iteration     4 | Cost: 4.930381e-32\n",
      "Iteration    59 | Cost: 3.286920e-32\n",
      "Iteration    15 | Cost: 4.930381e-32\n",
      "Iteration   200 | Cost: 1.075011e-16\n",
      "Iteration   200 | Cost: 1.636540e-04\n",
      "Iteration   200 | Cost: 5.650883e-03\n",
      "Iteration   200 | Cost: 6.419987e-02\n",
      "Iteration   200 | Cost: 1.645427e-01\n",
      "Iteration   200 | Cost: 7.903974e-02\n",
      "Iteration   200 | Cost: 1.192985e-01\n",
      "Iteration   200 | Cost: 1.445730e-01\n",
      "Polynomial Regression (lambda = 0.000000)\n",
      "\n",
      "# Training Examples\tTrain Error\tCross Validation Error\n",
      "  \t1\t\t0.000000\t154.638967\n",
      "  \t2\t\t0.000000\t154.844957\n",
      "  \t3\t\t0.000000\t31.745533\n",
      "  \t4\t\t0.000000\t29.248306\n",
      "  \t5\t\t0.000000\t6.498620\n",
      "  \t6\t\t0.000164\t10.397876\n",
      "  \t7\t\t0.005651\t18.866631\n",
      "  \t8\t\t0.064200\t8.285676\n",
      "  \t9\t\t0.164543\t7.240916\n",
      "  \t10\t\t0.079040\t7.166787\n",
      "  \t11\t\t0.119298\t7.672345\n",
      "  \t12\t\t0.144573\t21.433330\n"
     ]
    },
    {
     "data": {
      "image/png": "[encoded data removed]",
      "text/plain": [
       "<IPython.core.display.Image object>"
      ]
     },
     "metadata": {},
     "output_type": "display_data"
    },
    {
     "data": {
      "image/png": "[encoded data removed]",
      "text/plain": [
       "<IPython.core.display.Image object>"
      ]
     },
     "metadata": {},
     "output_type": "display_data"
    }
   ],
   "source": [
    "%% =========== Part 7: Learning Curve for Polynomial Regression =============\n",
    "\n",
    "\n",
    "lambda = 0;\n",
    "[theta] = trainLinearReg(X_poly, y, lambda);\n",
    "\n",
    "% Plot training data and fit\n",
    "figure(1);\n",
    "plot(X, y, 'rx', 'MarkerSize', 10, 'LineWidth', 1.5);\n",
    "plotFit(min(X), max(X), mu, sigma, theta, p);\n",
    "xlabel('Change in water level (x)');\n",
    "ylabel('Water flowing out of the dam (y)');\n",
    "title (sprintf('Polynomial Regression Fit (lambda = %f)', lambda));\n",
    "\n",
    "figure(2);\n",
    "[error_train, error_val] = learningCurve(X_poly, y, X_poly_val, yval, lambda);\n",
    "plot(1:m, error_train, 1:m, error_val);\n",
    "\n",
    "title(sprintf('Polynomial Regression Learning Curve (lambda = %f)', lambda));\n",
    "xlabel('Number of training examples')\n",
    "ylabel('Error')\n",
    "axis([0 13 0 100])\n",
    "legend('Train', 'Cross Validation')\n",
    "\n",
    "fprintf('Polynomial Regression (lambda = %f)\\n\\n', lambda);\n",
    "fprintf('# Training Examples\\tTrain Error\\tCross Validation Error\\n');\n",
    "for i = 1:m\n",
    "    fprintf('  \\t%d\\t\\t%f\\t%f\\n', i, error_train(i), error_val(i));\n",
    "end\n"
   ]
  },
  {
   "cell_type": "code",
   "execution_count": 13,
   "metadata": {
    "collapsed": false
   },
   "outputs": [
    {
     "name": "stdout",
     "output_type": "stream",
     "text": [
      "Iteration   200 | Cost: 7.639825e-02\n",
      "Iteration   200 | Cost: 1.946889e-01\n",
      "Iteration   200 | Cost: 2.522242e-01\n",
      "Iteration   200 | Cost: 3.850772e-01\n",
      "Iteration   200 | Cost: 6.692749e-01\n",
      "Iteration   198 | Cost: 1.443470e+00\n",
      "Iteration   105 | Cost: 3.101591e+00\n",
      "Iteration    52 | Cost: 7.268148e+00\n",
      "Iteration    34 | Cost: 1.586769e+01\n",
      "Iteration    24 | Cost: 3.337220e+01\n",
      "lambda\t\tTrain Error\tValidation Error\n",
      " 0.000000\t0.076398\t9.658082\n",
      " 0.001000\t0.166317\t18.416009\n",
      " 0.003000\t0.184755\t18.563027\n",
      " 0.010000\t0.222019\t17.068897\n",
      " 0.030000\t0.281854\t12.829179\n",
      " 0.100000\t0.459318\t7.587013\n",
      " 0.300000\t0.921760\t4.636833\n",
      " 1.000000\t2.076188\t4.260625\n",
      " 3.000000\t4.901351\t3.822907\n",
      " 10.000000\t16.092213\t9.945509\n"
     ]
    },
    {
     "data": {
      "image/png": "[encoded data removed]",
      "text/plain": [
       "<IPython.core.display.Image object>"
      ]
     },
     "metadata": {},
     "output_type": "display_data"
    }
   ],
   "source": [
    "%% =========== Part 8: Validation for Selecting Lambda =============\n",
    "\n",
    "\n",
    "[lambda_vec, error_train, error_val] = validationCurve(X_poly, y, X_poly_val, yval);\n",
    "\n",
    "close all;\n",
    "plot(lambda_vec, error_train, lambda_vec, error_val);\n",
    "legend('Train', 'Cross Validation');\n",
    "xlabel('lambda');\n",
    "ylabel('Error');\n",
    "\n",
    "fprintf('lambda\\t\\tTrain Error\\tValidation Error\\n');\n",
    "for i = 1:length(lambda_vec)\n",
    "\tfprintf(' %f\\t%f\\t%f\\n', lambda_vec(i), error_train(i), error_val(i));\n",
    "end"
   ]
  },
  {
   "cell_type": "code",
   "execution_count": null,
   "metadata": {
    "collapsed": true
   },
   "outputs": [],
   "source": []
  }
 ],
 "metadata": {
  "kernelspec": {
   "display_name": "Octave",
   "language": "octave",
   "name": "octave"
  },
  "language_info": {
   "file_extension": ".m",
   "help_links": [
    {
     "text": "GNU Octave",
     "url": "https://www.gnu.org/software/octave/support.html"
    },
    {
     "text": "Octave Kernel",
     "url": "https://github.com/Calysto/octave_kernel"
    },
    {
     "text": "MetaKernel Magics",
     "url": "https://github.com/calysto/metakernel/blob/master/metakernel/magics/README.md"
    }
   ],
   "mimetype": "text/x-octave",
   "name": "octave",
   "version": "4.0.2"
  }
 },
 "nbformat": 4,
 "nbformat_minor": 2
}

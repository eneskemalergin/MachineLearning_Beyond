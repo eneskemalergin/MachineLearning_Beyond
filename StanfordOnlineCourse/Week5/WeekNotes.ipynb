{
 "cells": [
  {
   "cell_type": "markdown",
   "metadata": {},
   "source": [
    "# Neural Networks: Learning\n",
    "\n",
    "## Cost Function and Backpropagation\n",
    "\n",
    "### Cost Function\n",
    "\n",
    "Let's first define a few variables that we will need to use:\n",
    "\n",
    "- L = total number of layers in the network\n",
    "- $s_1$ = number of units (not counting bias unit) in layer l\n",
    "- K = number of output units/classes\n",
    "\n",
    "Recall that in neural networks, we may have many output nodes. We denote $h_\\theta(x)_k$ as being a hypothesis that results in the $k^{th}$ output. Our cost function for neural networks is going to be a generalization of the one we used for logistic regression. Recall that the cost function for regularized logistic regression was:\n",
    "\n",
    "$$\n",
    "J(\\theta) = - \\frac{1}{m} \\sum_{i=1}^m [ y^{(i)}\\ \\log (h_\\theta (x^{(i)})) + (1 - y^{(i)})\\ \\log (1 - h_\\theta(x^{(i)}))] + \\frac{\\lambda}{2m}\\sum_{j=1}^n \\theta_j^2\n",
    "$$\n",
    "\n",
    "For neural networks, it is going to be slightly more complicated:\n",
    "\n",
    "$$\n",
    "\\begin{gather*} J(\\Theta) = - \\frac{1}{m} \\sum_{i=1}^m \\sum_{k=1}^K \\left[y^{(i)}_k \\log ((h_\\Theta (x^{(i)}))_k) + (1 - y^{(i)}_k)\\log (1 - (h_\\Theta(x^{(i)}))_k)\\right] + \\frac{\\lambda}{2m}\\sum_{l=1}^{L-1} \\sum_{i=1}^{s_l} \\sum_{j=1}^{s_{l+1}} ( \\Theta_{j,i}^{(l)})^2\\end{gather*}\n",
    "$$\n",
    "\n",
    "We have added a few nested summations to account for our multiple output nodes. In the first part of the equation, before the square brackets, we have an additional nested summation that loops through the number of output nodes.\n",
    "\n",
    "In the regularization part, after the square brackets, we must account for multiple theta matrices. The number of columns in our current theta matrix is equal to the number of nodes in our current layer (including the bias unit). The number of rows in our current theta matrix is equal to the number of nodes in the next layer (excluding the bias unit). As before with logistic regression, we square every term.\n",
    "\n",
    "__Note:__\n",
    "\n",
    "- the double sum simply adds up the logistic regression costs calculated for each cell in the output layer\n",
    "- the triple sum simply adds up the squares of all the individual Θs in the entire network.\n",
    "- the i in the triple sum does not refer to training example i"
   ]
  },
  {
   "cell_type": "markdown",
   "metadata": {},
   "source": [
    "### Backpropagation Algorithm\n",
    "__\"Backpropagation\"__ is neural-network terminology for minimizing our cost function, just like what we were doing with gradient descent in logistic and linear regression. Our goal is to compute:\n",
    "\n",
    "$$\n",
    "\\min_\\Theta J(\\Theta)\n",
    "$$\n",
    "\n",
    "That is, we want to minimize our cost function J using an optimal set of parameters in theta. In this section we'll look at the equations we use to compute the partial derivative of $J(\\theta)$\n",
    "\n",
    "$$\n",
    "\\dfrac{\\partial}{\\partial \\Theta_{i,j}^{(l)}}J(\\Theta)\n",
    "$$\n",
    "\n",
    "To do so, we use the following algorithm:\n",
    "\n",
    "![](http://lh6.ggpht.com/-liYpem9tr9U/VKsws7IfXQI/AAAAAAAABgE/nUm-v8iaREg/image_thumb129_thumb.png?imgmax=800)\n",
    "\n",
    "__Back propagation Algorithm__\n",
    "Given training set $\\lbrace (x^{(1)}, y^{(1)}) \\cdots (x^{(m)}, y^{(m)})\\rbrace$\n",
    "\n",
    "- Set $\\Delta^{(l)}_{i,j}$ for all (l,i,j) (hence you end up having a matrix full of zeros)\n",
    "\n",
    "For training example t =1 to m:\n",
    "\n",
    "1. Set $a^{(1)} := x^{(t)}$\n",
    "2. Perform forward propagation to compute $a^{(l)}$ for l=2,3,...,L\n",
    "3. Using $y^{(t)}$, compute $\\delta^{(L)} = a^{(L)} - y^{(t)}$\n",
    "    - Where L is our total number of layers and a(L) is the vector of outputs of the activation units for the last layer. So our \"error values\" for the last layer are simply the differences of our actual results in the last layer and the correct outputs in y. To get the delta values of the layers before the last layer, we can use an equation that steps us back from right to left:\n",
    "4. Compute $\\delta^{(L-1)}, \\delta^{(L-2)},\\dots,\\delta^{(2)}$ using $\\delta^{(l)} = ((\\Theta^{(l)})^T \\delta^{(l+1)})\\ .*\\ a^{(l)}\\ .*\\ (1 - a^{(l)})$\n",
    "    - The delta values of layer l are calculated by multiplying the delta values in the next layer with the theta matrix of layer l. We then element-wise multiply that with a function called g', or g-prime, which is the derivative of the activation function g evaluated with the input values given by z(l).\n",
    "    - The g-prime derivative terms can also be written out as:\n",
    "        - $g'(z^{(l)}) = a^{(l)}\\ .*\\ (1 - a^{(l)})$\n",
    "5. $\\Delta^{(l)}_{i,j} := \\Delta^{(l)}_{i,j} + a_j^{(l)} \\delta_i^{(l+1)}$  or with vectorization $\\Delta^{(l)} := \\Delta^{(l)} + \\delta^{(l+1)}(a^{(l)})^T$\n",
    "\n",
    "Hence we update our new $\\Delta$ matrix\n",
    "\n",
    "$$D^{(l)}_{i,j} := \\dfrac{1}{m}\\left(\\Delta^{(l)}_{i,j} + \\lambda\\Theta^{(l)}_{i,j}\\right)$$\n",
    "\n",
    "$$D^{(l)}_{i,j} := \\dfrac{1}{m}\\Delta^{(l)}_{i,j}$$\n",
    "\n",
    "The capital-delta matrix D is used as an \"accumulator\" to add up our values as we go along and eventually compute our partial derivative. Thus we get $\\frac \\partial {\\partial \\Theta_{ij}^{(l)}} J(\\Theta)$"
   ]
  },
  {
   "cell_type": "markdown",
   "metadata": {},
   "source": [
    "### Backpropagation Intuition\n",
    "\n",
    "Recall that the cost function for a neural network is:\n",
    "\n",
    "$$\n",
    "\\begin{gather*}J(\\Theta) = - \\frac{1}{m} \\sum_{t=1}^m\\sum_{k=1}^K \\left[ y^{(t)}_k \\ \\log (h_\\Theta (x^{(t)}))_k + (1 - y^{(t)}_k)\\ \\log (1 - h_\\Theta(x^{(t)})_k)\\right] + \\frac{\\lambda}{2m}\\sum_{l=1}^{L-1} \\sum_{i=1}^{s_l} \\sum_{j=1}^{s_l+1} ( \\Theta_{j,i}^{(l)})^2\\end{gather*}\n",
    "$$\n",
    "\n",
    "If we consider simple non-multiclass classification (k = 1) and disregard regularization, the cost is computed with:\n",
    "\n",
    "$$\n",
    "cost(t) =y^{(t)} \\ \\log (h_\\Theta (x^{(t)})) + (1 - y^{(t)})\\ \\log (1 - h_\\Theta(x^{(t)}))\n",
    "$$\n",
    "\n",
    "Intuitively, $\\delta_j^{(l)}$ is the \"error\" for $a^{(l)}_j$  (unit j in layer l). More formally, the delta values are actually the derivative of the cost function:\n",
    "\n",
    "$$\n",
    "\\delta_j^{(l)} = \\dfrac{\\partial}{\\partial z_j^{(l)}} cost(t)\n",
    "$$\n",
    "\n",
    "Recall that our derivative is the slope of a line tangent to the cost function, so the steeper the slope the more incorrect we are. Let us consider the following neural network below and see how we could calculate some $\\delta_j^{(l)}$"
   ]
  },
  {
   "cell_type": "markdown",
   "metadata": {},
   "source": [
    "## Backpropagation in Practice\n",
    "\n",
    "### Implementation Note: Unrolling Parameters\n",
    "\n",
    "With neural networks, we are working with sets of matrices:\n",
    "\n",
    "$$\n",
    "\\begin{align*} \\Theta^{(1)}, \\Theta^{(2)}, \\Theta^{(3)}, \\dots \\newline D^{(1)}, D^{(2)}, D^{(3)}, \\dots \\end{align*}\n",
    "$$\n",
    "\n",
    "In order to use optimizing functions such as ```\"fminunc()\"```, we will want to unroll all the elements and put them into one long vector:"
   ]
  },
  {
   "cell_type": "code",
   "execution_count": null,
   "metadata": {
    "collapsed": true
   },
   "outputs": [],
   "source": [
    "thetaVector = [ Theta1(:); Theta2(:); Theta3(:);]\n",
    "deltaVector = [ D1(:); D2(:); D3(:)]"
   ]
  },
  {
   "cell_type": "markdown",
   "metadata": {},
   "source": [
    "If the dimensions of Theta1 is 10x11, Theta2 is 10x11, and Theta3 is 1x11, then we can get back our original matrices from the \"unrlled versions as follows:"
   ]
  },
  {
   "cell_type": "code",
   "execution_count": null,
   "metadata": {
    "collapsed": true
   },
   "outputs": [],
   "source": [
    "Theta1 = reshape(thetaVector(1:110),10,11)\n",
    "Theta2 = reshape(thetaVector(111:220),10,11)\n",
    "Theta3 = reshape(thetaVector(221:231),1,11)"
   ]
  },
  {
   "cell_type": "markdown",
   "metadata": {},
   "source": [
    "To summarize:\n",
    "\n",
    "__Learning Algorithm:__\n",
    "\n",
    "- Have initial parameters $\\theta^1, \\theta^2, \\theta^3$\n",
    "- Unroll to get ```initialTheta``` to pass to ```fminunc(@costFunction, initialTheta, options)```\n",
    "\n",
    "```Octave\n",
    "function [jval, gradientVec] = costFunction(thetaVec)\n",
    "    % from thetaVec, get theta^1, theta^2, theta^3\n",
    "    % Use forward prob\\back prob to compute delta^1, delta^2, delta^3 and J(theta)\n",
    "    % Unroll D^1 D^2 D^3 to get gradientVec\n",
    "```"
   ]
  },
  {
   "cell_type": "markdown",
   "metadata": {},
   "source": [
    "### Gradient Checking\n",
    "\n",
    "Gradient checking will assure that our backpropagation works as intended. We can approximate the derivative of our cost function with:\n",
    "\n",
    "$$\n",
    "\\dfrac{\\partial}{\\partial\\Theta}J(\\Theta) \\approx \\dfrac{J(\\Theta + \\epsilon) - J(\\Theta - \\epsilon)}{2\\epsilon}\n",
    "$$\n",
    "\n",
    "With multiple theta matrices, we can approximate the derivative __with respect to $\\theta_j$__ as follows:\n",
    "\n",
    "$$\n",
    "\\dfrac{\\partial}{\\partial\\Theta_j}J(\\Theta) \\approx \\dfrac{J(\\Theta_1, \\dots, \\Theta_j + \\epsilon, \\dots, \\Theta_n) - J(\\Theta_1, \\dots, \\Theta_j - \\epsilon, \\dots, \\Theta_n)}{2\\epsilon}\n",
    "$$\n",
    "\n",
    "A small value for $\\epsilon$ (epsilon) such as $\\epsilon = 10^{-4}$, guarantees that the math works out properly. If the value for $\\epsilon$ is too small, we can end up with numerical problems.\n",
    "\n",
    "Hence, we are only adding or subtracting epsilon to the $\\theta_j$ matrix. In octave we can do it as follows:\n",
    "\n",
    "```Octave\n",
    "epsilon = 1e-4;\n",
    "for i = 1:n,\n",
    "  thetaPlus = theta;\n",
    "  thetaPlus(i) += epsilon;\n",
    "  thetaMinus = theta;\n",
    "  thetaMinus(i) -= epsilon;\n",
    "  gradApprox(i) = (J(thetaPlus) - J(thetaMinus))/(2*epsilon)\n",
    "end;\n",
    "```\n",
    "\n",
    "We previously saw how to calculate the deltaVector. So once we compute our gradApprox vector, we can check that gradApprox ≈ deltaVector.\n",
    "\n",
    "Once you have verified __once__ that your backpropagation algorithm is correct, you don't need to compute gradApprox again. The code to compute gradApprox can be very slow."
   ]
  },
  {
   "cell_type": "markdown",
   "metadata": {},
   "source": [
    "### Random Initialization\n",
    "\n",
    "Initializing all theta weights to zero does not work with neural networks. When we backpropagate, all nodes will update to the same value repeatedly. Instead we can randomly initialize our weights for our $\\theta$ matrices using the following method:\n",
    "\n",
    "![](http://7xihzu.com1.z0.glb.clouddn.com/20160716/random-initialization.png)\n",
    "\n",
    "Hence, we initialize each $\\theta_{ij}^{(l)}$ to a random value between $[−\\epsilon,\\epsilon]$. Using the above formula guarantees that we get the desired bound. The same procedure applies to all the $\\theta$'s. Below is some working code you could use to experiment.\n",
    "\n",
    "\n",
    "```Octave\n",
    "%If the dimensions of Theta1 is 10x11, Theta2 is 10x11 and Theta3 is 1x11.\n",
    "\n",
    "Theta1 = rand(10,11) * (2 * INIT_EPSILON) - INIT_EPSILON;\n",
    "Theta2 = rand(10,11) * (2 * INIT_EPSILON) - INIT_EPSILON;\n",
    "Theta3 = rand(1,11) * (2 * INIT_EPSILON) - INIT_EPSILON;\n",
    "```\n",
    "\n",
    "The ```rand(x,y)``` is just a function in octave that will initialize a matrix of random real numbers between 0 and 1.\n",
    "\n",
    "(Note: the epsilon used above is unrelated to the epsilon from Gradient Checking)"
   ]
  },
  {
   "cell_type": "markdown",
   "metadata": {},
   "source": [
    "### Putting it Together\n",
    "\n",
    "First, pick a network architecture; choose the layout of your neural network, including how many hidden units in each layer and how many layers in total you want to have.\n",
    "\n",
    "- Number of input units = dimension of features $x^i$\n",
    "- Number of output units = number of classes\n",
    "- Number of hidden units per layer = usually more the better (must balance with cost of computation as it increases with more hidden units)\n",
    "- Defaults: 1 hidden layer. If you have more than 1 hidden layer, then it is recommended that you have the same number of units in every hidden layer.\n",
    "\n",
    "__Training a Neural Network__\n",
    "\n",
    "1. Randomly initialize the weights\n",
    "2. Implement forward propagation to get $h_\\theta(x^{(i)})$ for any $x^{(i)}$\n",
    "3. Implement the cost function\n",
    "4. Implement backpropagation to compute partial derivatives\n",
    "5. Use gradient checking to confirm that your backpropagation works. Then disable gradient checking.\n",
    "6. Use gradient descent or a built-in optimization function to minimize the cost function with the weights in theta.\n",
    "\n",
    "When we perform forward and back propagation, we loop on every training example:\n",
    "\n",
    "```Octave\n",
    "for i = 1:m,\n",
    "   %Perform forward propagation and backpropagation using example (x(i),y(i))\n",
    "   % (Get activations a(l) and delta terms d(l) for l = 2,...,L\n",
    "```"
   ]
  }
 ],
 "metadata": {
  "anaconda-cloud": {},
  "kernelspec": {
   "display_name": "Octave",
   "language": "octave",
   "name": "octave"
  },
  "language_info": {
   "file_extension": ".m",
   "help_links": [
    {
     "text": "MetaKernel Magics",
     "url": "https://github.com/calysto/metakernel/blob/master/metakernel/magics/README.md"
    }
   ],
   "mimetype": "text/x-octave",
   "name": "octave",
   "version": "0.19.14"
  }
 },
 "nbformat": 4,
 "nbformat_minor": 1
}

{
 "cells": [
  {
   "cell_type": "markdown",
   "metadata": {},
   "source": [
    "# Advice for Applying Machine Learning\n",
    "\n",
    "## Evaluating a Learning Algorithm\n",
    "\n",
    "### Evaluating a Hypothesis\n",
    "Once we have done some trouble shooting for errors in our predictions by:\n",
    "\n",
    "- Getting more training examples\n",
    "- Trying smaller sets of features\n",
    "- Trying additional features\n",
    "- Trying polynomial features\n",
    "- Increasing or decreasing λ\n",
    "\n",
    "We can move on to evaluate our new hypothesis.\n",
    "\n",
    "A hypothesis may have a low error for the training examples but still be inaccurate (because of overfitting). Thus, to evaluate a hypothesis, given a dataset of training examples, we can split up the data into two sets: a **training set** and a **test set**. Typically, the training set consists of 70 % of your data and the test set is the remaining 30 %.\n",
    "\n",
    "The new procedure using these two sets is then:\n",
    "\n",
    "1. Learn $\\theta$ and minimize $J_{train}(\\theta)$ using the training set\n",
    "2. Compute the test set error $J_{test}(\\theta)$\n",
    "\n",
    "#### The test set error\n",
    "\n",
    "1. For linear regression $J_{test}(\\Theta) = \\dfrac{1}{2m_{test}} \\sum_{i=1}^{m_{test}}(h_\\Theta(x^{(i)}_{test}) - y^{(i)}_{test})^2 $\n",
    "2. For classification ~ Misclassification error (aka 0/1 misclassification error):\n",
    "\n",
    "$$\n",
    "err(h_\\Theta(x),y) = \\begin{matrix} 1 & \\mbox{if } h_\\Theta(x) \\geq 0.5\\ and\\ y = 0\\ or\\ h_\\Theta(x) < 0.5\\ and\\ y = 1\\newline 0 & \\mbox otherwise \\end{matrix}\n",
    "$$\n",
    "\n",
    "This gives us a binary 0 or 1 error result based on a misclassification. The average test error for the test set is:\n",
    "\n",
    "$$\n",
    "\\text{Test Error} = \\dfrac{1}{m_{test}} \\sum^{m_{test}}_{i=1} err(h_\\Theta(x^{(i)}_{test}), y^{(i)}_{test})\n",
    "$$\n",
    "\n",
    "This gives us the proportion of the test data that was misclassified.\n"
   ]
  },
  {
   "cell_type": "markdown",
   "metadata": {},
   "source": [
    "### Model Selection and Train/Validation/Test Sets\n",
    "\n",
    "Just because a learning algorithm fits a training set well, that does not mean it is a good hypothesis. It could over fit and as a result your predictions on the test set would be poor. The error of your hypothesis as measured on the data set with which you trained the parameters will be lower than the error on any other data set.\n",
    "\n",
    "Given many models with different polynomial degrees, we can use a systematic approach to identify the 'best' function. In order to choose the model of your hypothesis, you can test each degree of polynomial and look at the error result.\n",
    "\n",
    "One way to break down our dataset into the three sets is:\n",
    "\n",
    "- Training set: 60%\n",
    "- Cross validation set: 20%\n",
    "- Test set: 20%\n",
    "\n",
    "We can now calculate three separate error values for the three different sets using the following method:\n",
    "\n",
    "Optimize the parameters in $\\theta$ using the training set for each polynomial degree.\n",
    "Find the polynomial degree d with the least error using the cross validation set.\n",
    "Estimate the generalization error using the test set with $J_{test}(\\Theta^{(d)})$, (d = theta from polynomial with lower error);\n",
    "This way, the degree of the polynomial d has not been trained using the test set."
   ]
  },
  {
   "cell_type": "markdown",
   "metadata": {},
   "source": [
    "## Bias vs. Variance\n",
    "\n",
    "### Diagnosing\n",
    "\n",
    "In this section we examine the relationship between the degree of the polynomial d and the underfitting or overfitting of our hypothesis.\n",
    "\n",
    "- We need to distinguish whether **bias** or **variance** is the problem contributing to bad predictions.\n",
    "- High bias is underfitting and high variance is overfitting. Ideally, we need to find a golden mean between these two.\n",
    "\n",
    "The training error will tend to **decrease** as we increase the degree d of the polynomial.\n",
    "\n",
    "At the same time, the cross validation error will tend to **decrease** as we increase d up to a point, and then it will **increase** as d is increased, forming a convex curve.\n",
    "\n",
    "**High bias (underfitting):** both $J_{train}(\\Theta)$ and $J_{CV}(\\theta)$ will be high. Also, $J_{CV}(\\Theta) \\approx J_{train}(\\Theta)$\n",
    "\n",
    "**High variance (overfitting):** $J_{train}(\\Theta)$ will be low and $J_{CV}(\\theta)$ will be much greater than $J_{train}(\\Theta)$\n",
    "\n",
    "![](http://www.yuthon.com/images/Features-and-polynom-degree-fix.png)"
   ]
  },
  {
   "cell_type": "markdown",
   "metadata": {},
   "source": [
    "### Learning Curves\n",
    "\n",
    "Training an algorithm on a very few number of data points (such as 1, 2 or 3) will easily have 0 errors because we can always find a quadratic curve that touches exactly those number of points. Hence:\n",
    "\n",
    "- As the training set gets larger, the error for a quadratic function increases.\n",
    "- The error value will plateau out after a certain m, or training set size.\n",
    "\n",
    "**Experiencing high bias:**\n",
    "\n",
    "**Low training set size**: causes $J_{train}(\\Theta)$ to be low and $J_{CV}(\\Theta)$ to be high.\n",
    "\n",
    "**Large training set size:** causes both $J_{train}(\\Theta)$ and $J_{CV}(\\Theta)$ to be high with $J_{train}(\\Theta) \\approx J_{CV}(\\Theta)$\n",
    "\n",
    "If a learning algorithm is suffering from **high bias**, getting more training data will not (by itself) help much.\n",
    "\n",
    "![](http://www.yuthon.com/images/typical-learning-curve-for-high-bias.png)\n",
    "\n",
    "**Experiencing high variance:**\n",
    "\n",
    "**Low training set size**: $J_{train}(\\Theta)$ will be low and $J_{CV}(\\Theta)$ will be high.\n",
    "\n",
    "**Large training set size:** $J_{train}(\\Theta)$  increases with training set size and $J_{CV}(\\Theta)$ continues to decrease without leveling off. Also, $J_{train}(\\Theta) < J_{CV}(\\Theta)$ but the difference between them remains significant.\n",
    "\n",
    "If a learning algorithm is suffering from **high variance**, getting more training data is likely to help.\n",
    "\n",
    "![](https://followthedata.files.wordpress.com/2012/06/screen-shot-2012-06-02-at-21-30-03.png)\n",
    "\n"
   ]
  },
  {
   "cell_type": "markdown",
   "metadata": {},
   "source": [
    "### Deciding What to Do Next Revisited\n",
    "\n",
    "Our decision process can be broken down as follows:\n",
    "\n",
    "- Getting more training examples: Fixes high variance\n",
    "- Trying smaller sets of features: Fixes high variance\n",
    "- Adding features: Fixes high bias\n",
    "- Adding polynomial features: Fixes high bias\n",
    "- Decreasing λ: Fixes high bias\n",
    "- Increasing λ: Fixes high variance.\n",
    "\n",
    "#### Diagnosing neural networks\n",
    "- A neural network with fewer parameters is **prone to underfitting**. It is also **computationally cheaper**.\n",
    "- A large neural network with more parameters is **prone to overfitting**. It is also **computationally expensive**. In this case you can use regularization (increase λ) to address the overfitting.\n",
    "\n",
    "Using a single hidden layer is a good starting default. You can train your neural network on a number of hidden layers using your cross validation set. You can then select the one that performs best.\n",
    "\n",
    "#### Model Complexity Effects:\n",
    "- Lower-order polynomials (low model complexity) have high bias and low variance. In this case, the model fits poorly consistently.\n",
    "- Higher-order polynomials (high model complexity) fit the training data extremely well and the test data extremely poorly. These have low bias on the training data, but very high variance.\n",
    "- In reality, we would want to choose a model somewhere in between, that can generalize well but also fits the data reasonably well."
   ]
  },
  {
   "cell_type": "markdown",
   "metadata": {},
   "source": [
    "## Building a Spam Classifier\n",
    "\n",
    "### Prioritizing What to Work On\n",
    "\n",
    "__Example:__\n",
    "\n",
    "Given a data set of emails, we could construct a vector for each email. Each entry in this vector represents a word. The vector normally contains 10,000 to 50,000 entries gathered by finding the most frequently used words in our data set. If a word is to be found in the email, we would assign its respective entry a 1, else if it is not found, that entry would be a 0. Once we have all our x vectors ready, we train our algorithm and finally, we could use it to classify if an email is a spam or not.\n",
    "\n",
    "![](http://images.slideplayer.com/25/8082467/slides/slide_4.jpg)\n",
    "\n",
    "So how could you spend your time to improve the accuracy of this classifier?\n",
    "\n",
    "- Collect lots of data (for example \"honeypot\" project but doesn't always work)\n",
    "- Develop sophisticated features (for example: using email header data in spam emails)\n",
    "- Develop algorithms to process your input in different ways (recognizing misspellings in spam).\n",
    "\n",
    "It is difficult to tell which of the options will be most helpful."
   ]
  },
  {
   "cell_type": "markdown",
   "metadata": {},
   "source": [
    "### Error Analysis\n",
    "The recommended approach to solving machine learning problems is to:\n",
    "\n",
    "- Start with a simple algorithm, implement it quickly, and test it early on your cross validation data.\n",
    "- Plot learning curves to decide if more data, more features, etc. are likely to help.\n",
    "- Manually examine the errors on examples in the cross validation set and try to spot a trend where most of the errors were made.\n",
    "\n",
    "For example, assume that we have 500 emails and our algorithm misclassifies a 100 of them. We could manually analyze the 100 emails and categorize them based on what type of emails they are. We could then try to come up with new cues and features that would help us classify these 100 emails correctly. Hence, if most of our misclassified emails are those which try to steal passwords, then we could find some features that are particular to those emails and add them to our model. We could also see how classifying each word according to its root changes our error rate:\n",
    "\n",
    "![](http://images.slideplayer.com/25/8082467/slides/slide_9.jpg)\n",
    "\n",
    "It is very important to get error results as a single, numerical value. Otherwise it is difficult to assess your algorithm's performance. For example if we use stemming, which is the process of treating the same word with different forms (fail/failing/failed) as one word (fail), and get a 3% error rate instead of 5%, then we should definitely add it to our model. However, if we try to distinguish between upper case and lower case letters and end up getting a 3.2% error rate instead of 3%, then we should avoid using this new feature. Hence, we should try new things, get a numerical value for our error rate, and based on our result decide whether we want to keep the new feature or not."
   ]
  },
  {
   "cell_type": "code",
   "execution_count": null,
   "metadata": {
    "collapsed": true
   },
   "outputs": [],
   "source": []
  }
 ],
 "metadata": {
  "kernelspec": {
   "display_name": "Octave",
   "language": "octave",
   "name": "octave"
  },
  "language_info": {
   "file_extension": ".m",
   "help_links": [
    {
     "text": "GNU Octave",
     "url": "https://www.gnu.org/software/octave/support.html"
    },
    {
     "text": "Octave Kernel",
     "url": "https://github.com/Calysto/octave_kernel"
    },
    {
     "text": "MetaKernel Magics",
     "url": "https://github.com/calysto/metakernel/blob/master/metakernel/magics/README.md"
    }
   ],
   "mimetype": "text/x-octave",
   "name": "octave",
   "version": "4.0.2"
  }
 },
 "nbformat": 4,
 "nbformat_minor": 2
}

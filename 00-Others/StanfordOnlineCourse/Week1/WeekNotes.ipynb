{
 "cells": [
  {
   "cell_type": "markdown",
   "metadata": {},
   "source": [
    "# Introduction\n",
    "\n",
    "\n",
    "What is Machine Learning?\n",
    "\n",
    "- The field of study that gives computers the ability to learn without being explicitly programmed.\n",
    "- A computer program is said to learn from experience E with respect t some class of tasks T and performance measure P, if its performance at tasks in T, as measured by P, improves with experience E.\n",
    "\n",
    "Any machine learning problem can be assigned to one of two broad classifications:\n",
    "\n",
    "- Supervised Learning\n",
    "- Unsupervised Learning\n",
    "\n",
    "## Supervised Learning\n",
    "In supervised learning we deal with a dataset that has the right answers, and we know how the correct output look like.\n",
    "\n",
    "- __Regression:__ We are trying to predict results within a continuous output, meaning that we are trying to map input variables to some continuous function\n",
    "- __Classification:__ We are instead trying to predict results in a discrete output. In other words, we are trying to map input variables into discrete categories.\n",
    "\n",
    "\n",
    "## Unsupervised Learning\n",
    "\n",
    "In unsupervised learning we don't know what is the output look like. We can derive structure from data where we don't necessarily know the effect of the variables.\n",
    "\n",
    "> With unsupervised learning there is no feedback based on the prediction results.\n",
    "\n",
    "\n",
    "---\n",
    "\n",
    "\n",
    "# Model and Cost Function\n",
    "\n",
    "## Linear Regression with One Variable\n",
    "\n",
    "### Model Representation\n",
    "\n",
    "Predicting Housing Prices requires us to use supervised learning more specifically a regression model because;\n",
    "- we are given the \"right answers\" for each example data,\n",
    "- we want to predict real valued output.  \n",
    "\n",
    "__Establishing the notation for future usage:__\n",
    "\n",
    "- $x^{(i)}$ to denote the input variables/features\n",
    "- $y^{(i)}$ to denote the output variables\n",
    "\n",
    "\n",
    "To describe the supervised learning problem slightly more formally, our goal is, given a training set, to learn a function ```h : X → Y``` so that ```h(x)``` is a “good” predictor for the corresponding value of y. For historical reasons, this function h is called a hypothesis. Seen pictorially, the process is therefore like this:\n",
    "\n",
    "\n",
    "![Hypothesis](https://d3c33hcgiwev3.cloudfront.net/imageAssetProxy.v1/H6qTdZmYEeaagxL7xdFKxA_2f0f671110e8f7446bb2b5b2f75a8874_Screenshot-2016-10-23-20.14.58.png?expiry=1486166400000&hmac=fvTsPK8iKXAgLED_1lfFmU2fPVzFpWadF8KFXWCFDgA)\n"
   ]
  },
  {
   "cell_type": "markdown",
   "metadata": {},
   "source": [
    "When the target variable that we’re trying to predict is continuous, such as in our housing example, we call the learning problem a __regression problem__.\n",
    "\n",
    "### Cost Function\n",
    "\n",
    "__How to fit the best possible line?__\n",
    "\n",
    "We can measure the accuracy of our hypothesis function by using a cost function.\n",
    "\n",
    "This takes an average difference (actually a fancier version of an average) of all the results of the hypothesis with inputs from ```x```'s and the actual output ```y```'s.\n",
    "\n",
    "$$\n",
    "J(\\theta_0, \\theta_1) = \\dfrac {1}{2m} \\displaystyle \\sum _{i=1}^m \\left ( \\hat{y}_{i}- y_{i} \\right)^2 = \\dfrac {1}{2m} \\displaystyle \\sum _{i=1}^m \\left (h_\\theta (x_{i}) - y_{i} \\right)^2\n",
    "$$\n",
    "\n",
    "The mean is halved (1/2) as a convenience for the computation of the gradient descent, as the derivative term of the square function will cancel out the 1/2 term.\n",
    "\n",
    "---\n",
    "\n",
    "# Parameter Learning\n",
    "\n",
    "## Gradient Descent\n",
    "\n",
    "So we have our hypothesis function and we have a way of measuring how well it fits into the data. Now we need to estimate the parameters in the hypothesis function. That's where gradient descent comes in.\n",
    "\n",
    "![Gradient Descent in 3D](https://d3c33hcgiwev3.cloudfront.net/imageAssetProxy.v1/bn9SyaDIEeav5QpTGIv-Pg_0d06dca3d225f3de8b5a4a7e92254153_Screenshot-2016-11-01-23.48.26.png?expiry=1486166400000&hmac=u-Owd_Bl8UmiAzIiDvJ46ee-rxE8lfUl5MV4FuU7FUw)\n",
    "\n",
    "\n",
    "Gradient descent algorithm starts with initial ```θ0``` and ```θ1``` then updates the values try to find the lowest point.\n",
    "\n",
    "repeat until convergence:\n",
    "\n",
    "$$\n",
    "\\theta_j := \\theta_j - \\alpha \\frac{\\partial}{\\partial \\theta_j} J(\\theta_0, \\theta_1)\n",
    "$$\n",
    "\n",
    "where j = 0,1 represents the feature index number.\n",
    "\n",
    "> But it's really important to keep that in mind that we have to update ```θ0``` and ```θ1``` simultaneously.\n",
    "\n",
    "At each iteration j, one should simultaneously update the parameters ```θ1,θ2,...,θn``` Updating a specific parameter prior to calculating another one on the $j^{(th)}$ iteration would yield to a wrong implementation."
   ]
  },
  {
   "cell_type": "markdown",
   "metadata": {},
   "source": [
    "Repeat until converge:\n",
    "$$\n",
    "\\theta_1:=\\theta_1-\\alpha \\frac{d}{d\\theta_1} J(\\theta_1)\n",
    "$$\n",
    "\n",
    "Regardless of the slope's sign for $\\frac{d}{d\\theta_1} J(\\theta_1)$ ```θ1``` eventually converges to its minimum value.\n",
    "\n",
    "\n",
    "![](https://d3c33hcgiwev3.cloudfront.net/imageAssetProxy.v1/SMSIxKGUEeav5QpTGIv-Pg_ad3404010579ac16068105cfdc8e950a_Screenshot-2016-11-03-00.05.06.png?expiry=1486166400000&hmac=tSGyjM_0unc0mPsoApDcTv4hWFQR97qBa83dmVhDBaU)\n",
    "\n",
    "On a side note, we should adjust our parameter ```α``` to ensure that the gradient descent algorithm converges in a reasonable time. Failure to converge or too much time to obtain the minimum value imply that our step size is wrong.\n",
    "\n",
    "After each step, while the point gets closer to the minimum, the derivative's result gets smaller. Without we decreasing the value of ```α```, the steps are getting smaller.\n",
    "\n",
    "![](https://d3c33hcgiwev3.cloudfront.net/imageAssetProxy.v1/UJpiD6GWEeai9RKvXdDYag_3c3ad6625a2a4ec8456f421a2f4daf2e_Screenshot-2016-11-03-00.05.27.png?expiry=1486166400000&hmac=iMZPxStH6pCmUT_jpnrKn2zyfT0dgaqciVGDj7_nu0s)\n",
    "\n",
    "When specifically applied to the case of linear regression, a new form of the gradient descent equation can be derived. We can substitute our actual cost function and our actual hypothesis function and modify the equation to :\n",
    "\n",
    "\n",
    "$$\n",
    "\\begin{align*} \\text{repeat until convergence: } \\lbrace & \\newline \\theta_0 := & \\theta_0 - \\alpha \\frac{1}{m} \\sum\\limits_{i=1}^{m}(h_\\theta(x_{i}) - y_{i}) \\newline \\theta_1 := & \\theta_1 - \\alpha \\frac{1}{m} \\sum\\limits_{i=1}^{m}\\left((h_\\theta(x_{i}) - y_{i}) x_{i}\\right) \\newline \\rbrace& \\end{align*}\n",
    "$$\n",
    "\n",
    "So, this is simply gradient descent on the original cost function J. This method looks at every example in the entire training set on every step, and is called __batch gradient descent.__ Note that, while gradient descent can be susceptible to local minima in general, the optimization problem we have posed here for linear regression has only one global, and no other local, optima; thus gradient descent always converges (assuming the learning rate α is not too large) to the global minimum. Indeed, J is a convex quadratic function. Here is an example of gradient descent as it is run to minimize a quadratic function.\n",
    "\n",
    "![](https://d3c33hcgiwev3.cloudfront.net/imageAssetProxy.v1/xAQBlqaaEeawbAp5ByfpEg_24e9420f16fdd758ccb7097788f879e7_Screenshot-2016-11-09-08.36.49.png?expiry=1486166400000&hmac=7eqHf8NeHyM4aNblcGteuT021O_dbgOi4R7GtpBjRwU)\n",
    "\n",
    "The ellipses shown above are the contours of a quadratic function. Also shown is the trajectory taken by gradient descent, which was initialized at (48,30). The x’s in the figure (joined by straight lines) mark the successive values of θ that gradient descent went through as it converged to its minimum.\n"
   ]
  },
  {
   "cell_type": "code",
   "execution_count": null,
   "metadata": {
    "collapsed": true
   },
   "outputs": [],
   "source": []
  }
 ],
 "metadata": {
  "anaconda-cloud": {},
  "kernelspec": {
   "display_name": "Octave",
   "language": "octave",
   "name": "octave"
  },
  "language_info": {
   "file_extension": ".m",
   "help_links": [
    {
     "text": "GNU Octave",
     "url": "https://www.gnu.org/software/octave/support.html"
    },
    {
     "text": "Octave Kernel",
     "url": "https://github.com/Calysto/octave_kernel"
    },
    {
     "text": "MetaKernel Magics",
     "url": "https://github.com/calysto/metakernel/blob/master/metakernel/magics/README.md"
    }
   ],
   "mimetype": "text/x-octave",
   "name": "octave",
   "version": "4.2.0"
  }
 },
 "nbformat": 4,
 "nbformat_minor": 1
}

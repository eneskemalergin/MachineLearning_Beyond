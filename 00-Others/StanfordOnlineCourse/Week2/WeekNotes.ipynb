{
 "cells": [
  {
   "cell_type": "markdown",
   "metadata": {},
   "source": [
    "# Multivariate Linear Regression\n",
    "\n",
    "## Multiple Features\n",
    "\n",
    "Linear regression with multiple variables is also known as _\"multivariate linear regression\"_.\n",
    "\n",
    "We now introduce notation for equations where we can have any number of input variables.\n",
    "\n",
    "$$\n",
    "\\begin{align*}x_j^{(i)} &= \\text{value of feature } j \\text{ in the }i^{th}\\text{ training example} \\newline x^{(i)}& = \\text{the column vector of all the feature inputs of the }i^{th}\\text{ training example} \\newline m &= \\text{the number of training examples} \\newline n &= \\left| x^{(i)} \\right| ; \\text{(the number of features)} \\end{align*}\n",
    "$$\n",
    "\n",
    "The multivariable form of the hypothesis function accommodating these multiple features is as follows:\n",
    "\n",
    "$$\n",
    "h_\\theta (x) = \\theta_0 + \\theta_1 x_1 + \\theta_2 x_2 + \\theta_3 x_3 + \\cdots + \\theta_n x_n\n",
    "$$\n",
    "\n",
    "In order to develop intuition about this function, we can think about θ0 as the basic price of a house, θ1 as the price per square meter, θ2 as the price per floor, etc. x1 will be the number of square meters in the house, x2 the number of floors, etc.\n",
    "\n",
    "Using the definition of matrix multiplication, our multivariable hypothesis function can be concisely represented as:\n",
    "\n",
    "$$\n",
    "\\begin{align*}h_\\theta(x) =\\begin{bmatrix}\\theta_0 \\hspace{2em} \\theta_1 \\hspace{2em} ... \\hspace{2em} \\theta_n\\end{bmatrix}\\begin{bmatrix}x_0 \\newline x_1 \\newline \\vdots \\newline x_n\\end{bmatrix}= \\theta^T x\\end{align*}\n",
    "$$\n",
    "\n",
    "This is a vectorization of our hypothesis function for one training example; see the lessons on vectorization to learn more.\n",
    "\n",
    "> Remark: Note that for convenience reasons in this course we assume $x_{0}^{(i)} =1 \\text{ for } (i\\in { 1,\\dots, m } )$. This allows us to do matrix operations with theta and x. Hence making the two vectors 'θ' and x(i) match each other element-wise (that is, have the same number of elements: n+1).]\n",
    "\n",
    "The training examples are stored in X row-wise. The following example shows us the reason behind setting $x_{0}^{(i)} =1$:\n",
    "\n",
    "$$\n",
    "\\begin{align*}X = \\begin{bmatrix}x^{(1)}_0 & x^{(1)}_1 \\newline x^{(2)}_0 & x^{(2)}_1 \\newline x^{(3)}_0 & x^{(3)}_1 \\end{bmatrix}&,\\theta = \\begin{bmatrix}\\theta_0 \\newline \\theta_1 \\newline\\end{bmatrix}\\end{align*}\n",
    "$$\n",
    "\n",
    "As a result, you can calculate the hypothesis as a column vector of size (m x 1) with:\n",
    "\n",
    "$$\n",
    "h_\\theta(X) = X \\theta\n",
    "$$"
   ]
  },
  {
   "cell_type": "markdown",
   "metadata": {},
   "source": [
    "## Gradient Descent for Multiple Variable\n",
    "\n",
    "The gradient descent equation itself is generally the same form; we just have to repeat it for our 'n' features:\n",
    "\n",
    "$$\n",
    "\\begin{align*} & \\text{repeat until convergence:} \\; \\lbrace \\newline \\; & \\theta_0 := \\theta_0 - \\alpha \\frac{1}{m} \\sum\\limits_{i=1}^{m} (h_\\theta(x^{(i)}) - y^{(i)}) \\cdot x_0^{(i)}\\newline \\; & \\theta_1 := \\theta_1 - \\alpha \\frac{1}{m} \\sum\\limits_{i=1}^{m} (h_\\theta(x^{(i)}) - y^{(i)}) \\cdot x_1^{(i)} \\newline \\; & \\theta_2 := \\theta_2 - \\alpha \\frac{1}{m} \\sum\\limits_{i=1}^{m} (h_\\theta(x^{(i)}) - y^{(i)}) \\cdot x_2^{(i)} \\newline & \\cdots \\newline \\rbrace \\end{align*}\n",
    "$$\n",
    "\n",
    "In other words:\n",
    "\n",
    "$$\n",
    "\\begin{align*}& \\text{repeat until convergence:} \\; \\lbrace \\newline \\; & \\theta_j := \\theta_j - \\alpha \\frac{1}{m} \\sum\\limits_{i=1}^{m} (h_\\theta(x^{(i)}) - y^{(i)}) \\cdot x_j^{(i)} \\; & \\text{for j := 0...n}\\newline \\rbrace\\end{align*}\n",
    "$$\n",
    "\n",
    "The following image compares gradient descent with one variable to gradient descent with multiple variables:\n",
    "\n",
    "## Feature Scaling\n",
    "\n",
    "We can speed up gradient descent by having each of our input values in roughly the same range. This is because θ will descend quickly on small ranges and slowly on large ranges, and so will oscillate inefficiently down to the optimum when the variables are very uneven.\n",
    "\n",
    "The way to prevent this is to modify the ranges of our input variables so that they are all roughly the same. Ideally:\n",
    "\n",
    "    -1 <= x(i) <= 1\n",
    "    \n",
    "    or \n",
    "    \n",
    "    -0.5 <= x(i) <= 0.5\n",
    "    \n",
    "\n",
    "These aren't exact requirements; we are only trying to speed things up. The goal is to get all input variables into roughly one of these ranges, give or take a few.\n",
    "\n",
    "Two techniques to help with this are __feature scaling__ and __mean normalization__. Feature scaling involves dividing the input values by the range (i.e. the maximum value minus the minimum value) of the input variable, resulting in a new range of just 1. Mean normalization involves subtracting the average value for an input variable from the values for that input variable resulting in a new average value for the input variable of just zero. To implement both of these techniques, adjust your input values as shown in this formula:\n",
    "\n",
    "$$\n",
    "x_i := \\dfrac{x_i - \\mu_i}{s_i}\n",
    "$$\n",
    "\n",
    "Where μi is the average of all the values for feature (i) and si is the range of values (max - min), or si is the standard deviation.\n",
    "\n",
    "Note that dividing by the range, or dividing by the standard deviation, give different results. The quizzes in this course use range - the programming exercises use standard deviation.\n",
    "\n",
    "For example, if xi represents housing prices with a range of 100 to 2000 and a mean value of 1000, then, $x_i := \\dfrac{price-1000}{1900}$."
   ]
  },
  {
   "cell_type": "markdown",
   "metadata": {},
   "source": [
    "## Learning Rate\n",
    "\n",
    "__Debugging gradient descent__. Make a plot with number of iterations on the x-axis. Now plot the cost function, J(θ) over the number of iterations of gradient descent. If J(θ) ever increases, then you probably need to decrease α.\n",
    "\n",
    "__Automatic convergence test__. Declare convergence if J(θ) decreases by less than E in one iteration, where E is some small value such as $10^{-3}$. However in practice it's difficult to choose this threshold value.\n",
    "\n",
    "t has been proven that if learning rate α is sufficiently small, then J(θ) will decrease on every iteration.\n",
    "\n",
    "To summarize:\n",
    "\n",
    "If $\\alpha$ is too small: slow convergence.\n",
    "\n",
    "If $\\alpha$ is too large: ￼may not decrease on every iteration and thus may not converge.\n"
   ]
  },
  {
   "cell_type": "markdown",
   "metadata": {},
   "source": [
    "## Features and Polynomial Regression\n",
    "\n",
    "We can improve our features and the form of our hypothesis function in a couple different ways.\n",
    "\n",
    "We can combine multiple features into one. For example, we can combine x1 and x2 into a new feature x3 by taking x1⋅x2.\n",
    "\n",
    "__Polynomial Regression:__\n",
    "\n",
    "Our hypothesis function need not be linear (a straight line) if that does not fit the data well.\n",
    "\n",
    "We can change the behavior or curve of our hypothesis function by making it a quadratic, cubic or square root function (or any other form).\n",
    "\n",
    "For example, if our hypothesis function is $h_\\theta(x) = \\theta_0 + \\theta_1 x_1$ then we can create additional features based on x1, to get the quadratic function $h_\\theta(x) = \\theta_0 + \\theta_1 x_1 + \\theta_2 x_1^2$ or the cubic function $h_\\theta(x) = \\theta_0 + \\theta_1 x_1 + \\theta_2 x_1^2 + \\theta_3 x_1^3$ \n",
    "\n",
    "In the cubic version, we have created new features  $x_2$ and $x_3$ where $x_2=x_2^1$ and $x_3=x_3^1$.\n",
    "\n",
    "eg. if $x_1$ has range ```1 - 1000``` then range of $x_1^2$ becomes ```1 - 1000000``` and that of $x_1^3$ becomes ```1 - 1000000000```"
   ]
  },
  {
   "cell_type": "markdown",
   "metadata": {},
   "source": [
    "---\n",
    "\n",
    "# Computing Parameter Analytically\n",
    "\n",
    "## Normal Equation\n",
    "\n",
    "Gradient descent gives one way of minimizing J. Let’s discuss a second way of doing so, this time performing the minimization explicitly and without resorting to an iterative algorithm. In the \"Normal Equation\" method, we will minimize J by explicitly taking its derivatives with respect to the θj ’s, and setting them to zero. This allows us to find the optimum theta without iteration. The normal equation formula is given below:\n",
    "\n",
    "$$\n",
    "\\theta = (X^T X)^{-1}X^T y\n",
    "$$\n",
    "\n",
    "There is no need to do feature scaling with the normal equation.\n",
    "\n",
    "The following is a comparison of gradient descent and the normal equation:\n",
    "\n",
    "    Gradient Descent             Normal Equation\n",
    "    Need to choose alpha\t     No need to choose alpha\n",
    "    Needs many iterations\t     No need to iterate\n",
    "    O (kn2)\t                     O (n3), need to calculate inverse of XTX\n",
    "    Works well when n is large\t Slow if n is very large\n",
    "    \n",
    "With the normal equation, computing the inversion has complexity $O(n^3)$. So if we have a very large number of features, the normal equation will be slow. In practice, when n exceeds 10,000 it might be a good time to go from a normal solution to an iterative process.\n"
   ]
  },
  {
   "cell_type": "markdown",
   "metadata": {},
   "source": [
    "## Normal Equation Noninvertibility\n",
    "\n",
    "When implementing the normal equation in octave we want to use the ```'pinv'``` function rather than ```'inv.'``` The ```'pinv'``` function will give you a value of ```θ``` even if $X^TX$ is not invertible.\n",
    "\n",
    "If $X^TX$ is noninvertible, the common causes might be having :\n",
    "\n",
    "- Redundant features, where two features are very closely related (i.e. they are linearly dependent)\n",
    "- Too many features (e.g. m ≤ n). In this case, delete some features or use \"regularization\" (to be explained in a later lesson).\n",
    "\n",
    "Solutions to the above problems include deleting a feature that is linearly dependent with another or deleting one or more features when there are too many features."
   ]
  },
  {
   "cell_type": "code",
   "execution_count": null,
   "metadata": {
    "collapsed": true
   },
   "outputs": [],
   "source": []
  }
 ],
 "metadata": {
  "anaconda-cloud": {},
  "kernelspec": {
   "display_name": "Octave",
   "language": "octave",
   "name": "octave"
  },
  "language_info": {
   "file_extension": ".m",
   "help_links": [
    {
     "text": "GNU Octave",
     "url": "https://www.gnu.org/software/octave/support.html"
    },
    {
     "text": "Octave Kernel",
     "url": "https://github.com/Calysto/octave_kernel"
    },
    {
     "text": "MetaKernel Magics",
     "url": "https://github.com/calysto/metakernel/blob/master/metakernel/magics/README.md"
    }
   ],
   "mimetype": "text/x-octave",
   "name": "octave",
   "version": "4.2.0"
  }
 },
 "nbformat": 4,
 "nbformat_minor": 1
}

{
 "cells": [
  {
   "cell_type": "code",
   "execution_count": 21,
   "metadata": {
    "collapsed": true
   },
   "outputs": [],
   "source": [
    "% Initial Clean-up\n",
    "clear; close all; clc"
   ]
  },
  {
   "cell_type": "code",
   "execution_count": 22,
   "metadata": {
    "collapsed": false
   },
   "outputs": [
    {
     "name": "stdout",
     "output_type": "stream",
     "text": [
      "Loading Data...\n"
     ]
    }
   ],
   "source": [
    "fprintf('Loading Data...\\n')"
   ]
  },
  {
   "cell_type": "code",
   "execution_count": 23,
   "metadata": {
    "collapsed": false
   },
   "outputs": [],
   "source": [
    "%% Load Data:\n",
    "data = load('./data/ex1data2.txt');"
   ]
  },
  {
   "cell_type": "code",
   "execution_count": 24,
   "metadata": {
    "collapsed": false
   },
   "outputs": [
    {
     "name": "stdout",
     "output_type": "stream",
     "text": [
      "ans =\n",
      "\n",
      "   47    3\n",
      "\n"
     ]
    }
   ],
   "source": [
    "size(data)"
   ]
  },
  {
   "cell_type": "code",
   "execution_count": 25,
   "metadata": {
    "collapsed": true
   },
   "outputs": [],
   "source": [
    "X = data(:, 1:2);\n",
    "y = data(:, 3);\n",
    "m = length(y);"
   ]
  },
  {
   "cell_type": "code",
   "execution_count": 26,
   "metadata": {
    "collapsed": false
   },
   "outputs": [
    {
     "name": "stdout",
     "output_type": "stream",
     "text": [
      "ans =  47\n"
     ]
    }
   ],
   "source": [
    "length(y)"
   ]
  },
  {
   "cell_type": "code",
   "execution_count": 27,
   "metadata": {
    "collapsed": false
   },
   "outputs": [
    {
     "name": "stdout",
     "output_type": "stream",
     "text": [
      "First 10 examples from the dataset: \n",
      "x = [2104 1600], y = 2400 \n",
      "x = [1416 3000], y = 1985 \n",
      "x = [1534 1427], y = 1380 \n",
      "x = [1494 3], y = 3 \n",
      "x = [3 2], y = 4 \n",
      "x = [4 3], y = 3 \n",
      "x = [3 3], y = 399900 \n",
      "x = [329900 369000], y = 232000 \n",
      "x = [539900 299900], y = 314900 \n",
      "x = [198999 212000], y = 242500 \n"
     ]
    }
   ],
   "source": [
    "fprintf('First 10 examples from the dataset: \\n');\n",
    "fprintf('x = [%.0f %.0f], y = %.0f \\n', [X(1:10, :) y(1:10, :)])"
   ]
  },
  {
   "cell_type": "code",
   "execution_count": 28,
   "metadata": {
    "collapsed": false
   },
   "outputs": [
    {
     "name": "stdout",
     "output_type": "stream",
     "text": [
      "Program paused. Press enter to continue.\n"
     ]
    }
   ],
   "source": [
    "fprintf('Program paused. Press enter to continue.\\n');"
   ]
  },
  {
   "cell_type": "code",
   "execution_count": 29,
   "metadata": {
    "collapsed": false
   },
   "outputs": [
    {
     "name": "stdout",
     "output_type": "stream",
     "text": [
      "Normalizing Features ...\n",
      "mu =\n",
      "\n",
      "   2000.6809      3.1702\n",
      "\n",
      "sigma =\n",
      "\n",
      "   794.70235     0.76098\n",
      "\n"
     ]
    }
   ],
   "source": [
    "fprintf('Normalizing Features ...\\n');\n",
    "\n",
    "[X mu sigma] = featureNormalize(X);\n",
    "\n",
    "% Add intercept term to X\n",
    "X = [ones(m, 1) X];"
   ]
  },
  {
   "cell_type": "code",
   "execution_count": 30,
   "metadata": {
    "collapsed": false
   },
   "outputs": [
    {
     "name": "stdout",
     "output_type": "stream",
     "text": [
      "Running gradient descent ...\n"
     ]
    }
   ],
   "source": [
    "fprintf('Running gradient descent ...\\n');\n",
    "\n",
    "% Learning Rate:\n",
    "alpha = 0.01;\n",
    "num_iter = 400;"
   ]
  },
  {
   "cell_type": "code",
   "execution_count": 32,
   "metadata": {
    "collapsed": false
   },
   "outputs": [],
   "source": [
    "% Initialize Theta and Run Gradient Descent\n",
    "theta = zeros(3,1);\n",
    "\n",
    "[theta, J_history] = gradientDescentMulti(X,y, theta, alpha, num_iter);"
   ]
  },
  {
   "cell_type": "code",
   "execution_count": 33,
   "metadata": {
    "collapsed": false
   },
   "outputs": [
    {
     "data": {
      "image/svg+xml": [
       "<svg height=\"420px\" viewBox=\"0 0 560 420\" width=\"560px\" xmlns=\"http://www.w3.org/2000/svg\" xmlns:xlink=\"http://www.w3.org/1999/xlink\">\n",
       "\n",
       "<title>Gnuplot</title>\n",
       "<desc>Produced by GNUPLOT 5.0 patchlevel 5 </desc>\n",
       "\n",
       "<g id=\"gnuplot_canvas\">\n",
       "\n",
       "<rect fill=\"#ffffff\" height=\"420\" width=\"560\" x=\"0\" y=\"0\"/>\n",
       "<defs>\n",
       "\n",
       "\t<circle id=\"gpDot\" r=\"0.5\" stroke-width=\"0.5\"/>\n",
       "\t<path d=\"M-1,0 h2 M0,-1 v2\" id=\"gpPt0\" stroke=\"currentColor\" stroke-width=\"0.333\"/>\n",
       "\t<path d=\"M-1,-1 L1,1 M1,-1 L-1,1\" id=\"gpPt1\" stroke=\"currentColor\" stroke-width=\"0.333\"/>\n",
       "\t<path d=\"M-1,0 L1,0 M0,-1 L0,1 M-1,-1 L1,1 M-1,1 L1,-1\" id=\"gpPt2\" stroke=\"currentColor\" stroke-width=\"0.333\"/>\n",
       "\t<rect height=\"2\" id=\"gpPt3\" stroke=\"currentColor\" stroke-width=\"0.333\" width=\"2\" x=\"-1\" y=\"-1\"/>\n",
       "\t<rect fill=\"currentColor\" height=\"2\" id=\"gpPt4\" stroke=\"currentColor\" stroke-width=\"0.333\" width=\"2\" x=\"-1\" y=\"-1\"/>\n",
       "\t<circle cx=\"0\" cy=\"0\" id=\"gpPt5\" r=\"1\" stroke=\"currentColor\" stroke-width=\"0.333\"/>\n",
       "\t<use fill=\"currentColor\" id=\"gpPt6\" stroke=\"none\" xlink:href=\"#gpPt5\"/>\n",
       "\t<path d=\"M0,-1.33 L-1.33,0.67 L1.33,0.67 z\" id=\"gpPt7\" stroke=\"currentColor\" stroke-width=\"0.333\"/>\n",
       "\t<use fill=\"currentColor\" id=\"gpPt8\" stroke=\"none\" xlink:href=\"#gpPt7\"/>\n",
       "\t<use id=\"gpPt9\" stroke=\"currentColor\" transform=\"rotate(180)\" xlink:href=\"#gpPt7\"/>\n",
       "\t<use fill=\"currentColor\" id=\"gpPt10\" stroke=\"none\" xlink:href=\"#gpPt9\"/>\n",
       "\t<use id=\"gpPt11\" stroke=\"currentColor\" transform=\"rotate(45)\" xlink:href=\"#gpPt3\"/>\n",
       "\t<use fill=\"currentColor\" id=\"gpPt12\" stroke=\"none\" xlink:href=\"#gpPt11\"/>\n",
       "\t<path d=\"M0,1.330 L1.265,0.411 L0.782,-1.067 L-0.782,-1.076 L-1.265,0.411 z\" id=\"gpPt13\" stroke=\"currentColor\" stroke-width=\"0.333\"/>\n",
       "\t<use fill=\"currentColor\" id=\"gpPt14\" stroke=\"none\" xlink:href=\"#gpPt13\"/>\n",
       "\t<filter filterUnits=\"objectBoundingBox\" height=\"1\" id=\"textbox\" width=\"1\" x=\"0\" y=\"0\">\n",
       "\t  <feFlood flood-color=\"#FFFFFF\" flood-opacity=\"1\" result=\"bgnd\"/>\n",
       "\t  <feComposite in=\"SourceGraphic\" in2=\"bgnd\" operator=\"atop\"/>\n",
       "\t</filter>\n",
       "\t<filter filterUnits=\"objectBoundingBox\" height=\"1\" id=\"greybox\" width=\"1\" x=\"0\" y=\"0\">\n",
       "\t  <feFlood flood-color=\"lightgrey\" flood-opacity=\"1\" result=\"grey\"/>\n",
       "\t  <feComposite in=\"SourceGraphic\" in2=\"grey\" operator=\"atop\"/>\n",
       "\t</filter>\n",
       "</defs>\n",
       "<g color=\"#FFFFFF\" fill=\"none\" stroke=\"currentColor\" stroke-linecap=\"butt\" stroke-linejoin=\"miter\" stroke-width=\"1.00\">\n",
       "</g>\n",
       "<g color=\"black\" fill=\"none\" stroke=\"currentColor\" stroke-linecap=\"butt\" stroke-linejoin=\"miter\" stroke-width=\"1.00\">\n",
       "\t<g shape-rendering=\"crispEdges\" stroke=\"none\">\n",
       "\t\t<polygon fill=\"rgb(255, 255, 255)\" points=\"54.0,381.6 543.0,381.6 543.0,11.4 54.0,11.4 \"/>\n",
       "\t</g>\n",
       "</g>\n",
       "<g color=\"black\" fill=\"none\" stroke=\"currentColor\" stroke-linecap=\"butt\" stroke-linejoin=\"miter\" stroke-width=\"1.00\">\n",
       "\t<path d=\"M54.0,381.6 L62.4,381.6 M543.1,381.6 L534.7,381.6  \" stroke=\"rgb(  0,   0,   0)\"/>\t<g fill=\"rgb(38,38,38)\" font-family=\"Arial\" font-size=\"10.00\" stroke=\"none\" text-anchor=\"end\" transform=\"translate(48.4,384.9)\">\n",
       "\t\t<text><tspan font-family=\"Arial\">0</tspan></text>\n",
       "\t</g>\n",
       "</g>\n",
       "<g color=\"black\" fill=\"none\" stroke=\"currentColor\" stroke-linecap=\"butt\" stroke-linejoin=\"miter\" stroke-width=\"1.00\">\n",
       "\t<path d=\"M54.0,328.7 L62.4,328.7 M543.1,328.7 L534.7,328.7  \" stroke=\"rgb(  0,   0,   0)\"/>\t<g fill=\"rgb(38,38,38)\" font-family=\"Arial\" font-size=\"10.00\" stroke=\"none\" text-anchor=\"end\" transform=\"translate(48.4,332.0)\">\n",
       "\t\t<text><tspan font-family=\"Arial\">1e+10</tspan></text>\n",
       "\t</g>\n",
       "</g>\n",
       "<g color=\"black\" fill=\"none\" stroke=\"currentColor\" stroke-linecap=\"butt\" stroke-linejoin=\"miter\" stroke-width=\"1.00\">\n",
       "\t<path d=\"M54.0,275.8 L62.4,275.8 M543.1,275.8 L534.7,275.8  \" stroke=\"rgb(  0,   0,   0)\"/>\t<g fill=\"rgb(38,38,38)\" font-family=\"Arial\" font-size=\"10.00\" stroke=\"none\" text-anchor=\"end\" transform=\"translate(48.4,279.1)\">\n",
       "\t\t<text><tspan font-family=\"Arial\">2e+10</tspan></text>\n",
       "\t</g>\n",
       "</g>\n",
       "<g color=\"black\" fill=\"none\" stroke=\"currentColor\" stroke-linecap=\"butt\" stroke-linejoin=\"miter\" stroke-width=\"1.00\">\n",
       "\t<path d=\"M54.0,222.9 L62.4,222.9 M543.1,222.9 L534.7,222.9  \" stroke=\"rgb(  0,   0,   0)\"/>\t<g fill=\"rgb(38,38,38)\" font-family=\"Arial\" font-size=\"10.00\" stroke=\"none\" text-anchor=\"end\" transform=\"translate(48.4,226.2)\">\n",
       "\t\t<text><tspan font-family=\"Arial\">3e+10</tspan></text>\n",
       "\t</g>\n",
       "</g>\n",
       "<g color=\"black\" fill=\"none\" stroke=\"currentColor\" stroke-linecap=\"butt\" stroke-linejoin=\"miter\" stroke-width=\"1.00\">\n",
       "\t<path d=\"M54.0,170.0 L62.4,170.0 M543.1,170.0 L534.7,170.0  \" stroke=\"rgb(  0,   0,   0)\"/>\t<g fill=\"rgb(38,38,38)\" font-family=\"Arial\" font-size=\"10.00\" stroke=\"none\" text-anchor=\"end\" transform=\"translate(48.4,173.3)\">\n",
       "\t\t<text><tspan font-family=\"Arial\">4e+10</tspan></text>\n",
       "\t</g>\n",
       "</g>\n",
       "<g color=\"black\" fill=\"none\" stroke=\"currentColor\" stroke-linecap=\"butt\" stroke-linejoin=\"miter\" stroke-width=\"1.00\">\n",
       "\t<path d=\"M54.0,117.1 L62.4,117.1 M543.1,117.1 L534.7,117.1  \" stroke=\"rgb(  0,   0,   0)\"/>\t<g fill=\"rgb(38,38,38)\" font-family=\"Arial\" font-size=\"10.00\" stroke=\"none\" text-anchor=\"end\" transform=\"translate(48.4,120.4)\">\n",
       "\t\t<text><tspan font-family=\"Arial\">5e+10</tspan></text>\n",
       "\t</g>\n",
       "</g>\n",
       "<g color=\"black\" fill=\"none\" stroke=\"currentColor\" stroke-linecap=\"butt\" stroke-linejoin=\"miter\" stroke-width=\"1.00\">\n",
       "\t<path d=\"M54.0,64.2 L62.4,64.2 M543.1,64.2 L534.7,64.2  \" stroke=\"rgb(  0,   0,   0)\"/>\t<g fill=\"rgb(38,38,38)\" font-family=\"Arial\" font-size=\"10.00\" stroke=\"none\" text-anchor=\"end\" transform=\"translate(48.4,67.5)\">\n",
       "\t\t<text><tspan font-family=\"Arial\">6e+10</tspan></text>\n",
       "\t</g>\n",
       "</g>\n",
       "<g color=\"black\" fill=\"none\" stroke=\"currentColor\" stroke-linecap=\"butt\" stroke-linejoin=\"miter\" stroke-width=\"1.00\">\n",
       "\t<path d=\"M54.0,11.3 L62.4,11.3 M543.1,11.3 L534.7,11.3  \" stroke=\"rgb(  0,   0,   0)\"/>\t<g fill=\"rgb(38,38,38)\" font-family=\"Arial\" font-size=\"10.00\" stroke=\"none\" text-anchor=\"end\" transform=\"translate(48.4,14.6)\">\n",
       "\t\t<text><tspan font-family=\"Arial\">7e+10</tspan></text>\n",
       "\t</g>\n",
       "</g>\n",
       "<g color=\"black\" fill=\"none\" stroke=\"currentColor\" stroke-linecap=\"butt\" stroke-linejoin=\"miter\" stroke-width=\"1.00\">\n",
       "\t<path d=\"M54.0,381.6 L54.0,373.2 M54.0,11.3 L54.0,19.7  \" stroke=\"rgb(  0,   0,   0)\"/>\t<g fill=\"rgb(38,38,38)\" font-family=\"Arial\" font-size=\"10.00\" stroke=\"none\" text-anchor=\"middle\" transform=\"translate(54.0,396.9)\">\n",
       "\t\t<text><tspan font-family=\"Arial\">0</tspan></text>\n",
       "\t</g>\n",
       "</g>\n",
       "<g color=\"black\" fill=\"none\" stroke=\"currentColor\" stroke-linecap=\"butt\" stroke-linejoin=\"miter\" stroke-width=\"1.00\">\n",
       "\t<path d=\"M115.1,381.6 L115.1,373.2 M115.1,11.3 L115.1,19.7  \" stroke=\"rgb(  0,   0,   0)\"/>\t<g fill=\"rgb(38,38,38)\" font-family=\"Arial\" font-size=\"10.00\" stroke=\"none\" text-anchor=\"middle\" transform=\"translate(115.1,396.9)\">\n",
       "\t\t<text><tspan font-family=\"Arial\">50</tspan></text>\n",
       "\t</g>\n",
       "</g>\n",
       "<g color=\"black\" fill=\"none\" stroke=\"currentColor\" stroke-linecap=\"butt\" stroke-linejoin=\"miter\" stroke-width=\"1.00\">\n",
       "\t<path d=\"M176.3,381.6 L176.3,373.2 M176.3,11.3 L176.3,19.7  \" stroke=\"rgb(  0,   0,   0)\"/>\t<g fill=\"rgb(38,38,38)\" font-family=\"Arial\" font-size=\"10.00\" stroke=\"none\" text-anchor=\"middle\" transform=\"translate(176.3,396.9)\">\n",
       "\t\t<text><tspan font-family=\"Arial\">100</tspan></text>\n",
       "\t</g>\n",
       "</g>\n",
       "<g color=\"black\" fill=\"none\" stroke=\"currentColor\" stroke-linecap=\"butt\" stroke-linejoin=\"miter\" stroke-width=\"1.00\">\n",
       "\t<path d=\"M237.4,381.6 L237.4,373.2 M237.4,11.3 L237.4,19.7  \" stroke=\"rgb(  0,   0,   0)\"/>\t<g fill=\"rgb(38,38,38)\" font-family=\"Arial\" font-size=\"10.00\" stroke=\"none\" text-anchor=\"middle\" transform=\"translate(237.4,396.9)\">\n",
       "\t\t<text><tspan font-family=\"Arial\">150</tspan></text>\n",
       "\t</g>\n",
       "</g>\n",
       "<g color=\"black\" fill=\"none\" stroke=\"currentColor\" stroke-linecap=\"butt\" stroke-linejoin=\"miter\" stroke-width=\"1.00\">\n",
       "\t<path d=\"M298.6,381.6 L298.6,373.2 M298.6,11.3 L298.6,19.7  \" stroke=\"rgb(  0,   0,   0)\"/>\t<g fill=\"rgb(38,38,38)\" font-family=\"Arial\" font-size=\"10.00\" stroke=\"none\" text-anchor=\"middle\" transform=\"translate(298.6,396.9)\">\n",
       "\t\t<text><tspan font-family=\"Arial\">200</tspan></text>\n",
       "\t</g>\n",
       "</g>\n",
       "<g color=\"black\" fill=\"none\" stroke=\"currentColor\" stroke-linecap=\"butt\" stroke-linejoin=\"miter\" stroke-width=\"1.00\">\n",
       "\t<path d=\"M359.7,381.6 L359.7,373.2 M359.7,11.3 L359.7,19.7  \" stroke=\"rgb(  0,   0,   0)\"/>\t<g fill=\"rgb(38,38,38)\" font-family=\"Arial\" font-size=\"10.00\" stroke=\"none\" text-anchor=\"middle\" transform=\"translate(359.7,396.9)\">\n",
       "\t\t<text><tspan font-family=\"Arial\">250</tspan></text>\n",
       "\t</g>\n",
       "</g>\n",
       "<g color=\"black\" fill=\"none\" stroke=\"currentColor\" stroke-linecap=\"butt\" stroke-linejoin=\"miter\" stroke-width=\"1.00\">\n",
       "\t<path d=\"M420.8,381.6 L420.8,373.2 M420.8,11.3 L420.8,19.7  \" stroke=\"rgb(  0,   0,   0)\"/>\t<g fill=\"rgb(38,38,38)\" font-family=\"Arial\" font-size=\"10.00\" stroke=\"none\" text-anchor=\"middle\" transform=\"translate(420.8,396.9)\">\n",
       "\t\t<text><tspan font-family=\"Arial\">300</tspan></text>\n",
       "\t</g>\n",
       "</g>\n",
       "<g color=\"black\" fill=\"none\" stroke=\"currentColor\" stroke-linecap=\"butt\" stroke-linejoin=\"miter\" stroke-width=\"1.00\">\n",
       "\t<path d=\"M482.0,381.6 L482.0,373.2 M482.0,11.3 L482.0,19.7  \" stroke=\"rgb(  0,   0,   0)\"/>\t<g fill=\"rgb(38,38,38)\" font-family=\"Arial\" font-size=\"10.00\" stroke=\"none\" text-anchor=\"middle\" transform=\"translate(482.0,396.9)\">\n",
       "\t\t<text><tspan font-family=\"Arial\">350</tspan></text>\n",
       "\t</g>\n",
       "</g>\n",
       "<g color=\"black\" fill=\"none\" stroke=\"currentColor\" stroke-linecap=\"butt\" stroke-linejoin=\"miter\" stroke-width=\"1.00\">\n",
       "\t<path d=\"M543.1,381.6 L543.1,373.2 M543.1,11.3 L543.1,19.7  \" stroke=\"rgb(  0,   0,   0)\"/>\t<g fill=\"rgb(38,38,38)\" font-family=\"Arial\" font-size=\"10.00\" stroke=\"none\" text-anchor=\"middle\" transform=\"translate(543.1,396.9)\">\n",
       "\t\t<text><tspan font-family=\"Arial\">400</tspan></text>\n",
       "\t</g>\n",
       "</g>\n",
       "<g color=\"black\" fill=\"none\" stroke=\"currentColor\" stroke-linecap=\"butt\" stroke-linejoin=\"miter\" stroke-width=\"1.00\">\n",
       "</g>\n",
       "<g color=\"black\" fill=\"none\" stroke=\"currentColor\" stroke-linecap=\"butt\" stroke-linejoin=\"miter\" stroke-width=\"1.00\">\n",
       "\t<g fill=\"rgb(38,38,38)\" font-family=\"Arial\" font-size=\"11.00\" stroke=\"none\" text-anchor=\"middle\" transform=\"translate(12.3,196.5) rotate(-90)\">\n",
       "\t\t<text><tspan font-family=\"Arial\">Cost J</tspan></text>\n",
       "\t</g>\n",
       "</g>\n",
       "<g color=\"black\" fill=\"none\" stroke=\"currentColor\" stroke-linecap=\"butt\" stroke-linejoin=\"miter\" stroke-width=\"1.00\">\n",
       "\t<g fill=\"rgb(38,38,38)\" font-family=\"Arial\" font-size=\"11.00\" stroke=\"none\" text-anchor=\"middle\" transform=\"translate(298.5,415.2)\">\n",
       "\t\t<text><tspan font-family=\"Arial\">Number of iterations</tspan></text>\n",
       "\t</g>\n",
       "</g>\n",
       "<g color=\"black\" fill=\"none\" stroke=\"currentColor\" stroke-linecap=\"butt\" stroke-linejoin=\"miter\" stroke-width=\"1.00\">\n",
       "</g>\n",
       "\t<g id=\"gnuplot_plot_1a\"><title>gnuplot_plot_1a</title>\n",
       "<g color=\"#FFFFFF\" fill=\"none\" stroke=\"currentColor\" stroke-linecap=\"butt\" stroke-linejoin=\"miter\" stroke-width=\"2.00\">\n",
       "</g>\n",
       "<g color=\"black\" fill=\"none\" stroke=\"currentColor\" stroke-linecap=\"butt\" stroke-linejoin=\"miter\" stroke-width=\"2.00\">\n",
       "\t<path d=\"M55.2,41.4 L56.4,48.1 L57.7,54.7 L58.9,61.1 L60.1,67.4 L61.3,73.5 L62.6,79.5 L63.8,85.4   L65.0,91.2 L66.2,96.9 L67.5,102.4 L68.7,107.8 L69.9,113.1 L71.1,118.3 L72.3,123.4 L73.6,128.4   L74.8,133.3 L76.0,138.1 L77.2,142.8 L78.5,147.4 L79.7,151.9 L80.9,156.3 L82.1,160.6 L83.3,164.8   L84.6,168.9 L85.8,173.0 L87.0,176.9 L88.2,180.8 L89.5,184.6 L90.7,188.4 L91.9,192.0 L93.1,195.6   L94.4,199.1 L95.6,202.5 L96.8,205.9 L98.0,209.2 L99.2,212.4 L100.5,215.6 L101.7,218.7 L102.9,221.7   L104.1,224.7 L105.4,227.6 L106.6,230.4 L107.8,233.2 L109.0,236.0 L110.2,238.6 L111.5,241.3 L112.7,243.8   L113.9,246.4 L115.1,248.8 L116.4,251.2 L117.6,253.6 L118.8,255.9 L120.0,258.2 L121.3,260.4 L122.5,262.6   L123.7,264.8 L124.9,266.9 L126.1,268.9 L127.4,270.9 L128.6,272.9 L129.8,274.8 L131.0,276.7 L132.3,278.6   L133.5,280.4 L134.7,282.2 L135.9,283.9 L137.1,285.6 L138.4,287.3 L139.6,288.9 L140.8,290.5 L142.0,292.1   L143.3,293.6 L144.5,295.2 L145.7,296.6 L146.9,298.1 L148.2,299.5 L149.4,300.9 L150.6,302.3 L151.8,303.6   L153.0,304.9 L154.3,306.2 L155.5,307.5 L156.7,308.7 L157.9,309.9 L159.2,311.1 L160.4,312.3 L161.6,313.4   L162.8,314.5 L164.0,315.6 L165.3,316.7 L166.5,317.7 L167.7,318.8 L168.9,319.8 L170.2,320.8 L171.4,321.7   L172.6,322.7 L173.8,323.6 L175.1,324.5 L176.3,325.4 L177.5,326.3 L178.7,327.1 L179.9,328.0 L181.2,328.8   L182.4,329.6 L183.6,330.4 L184.8,331.2 L186.1,332.0 L187.3,332.7 L188.5,333.4 L189.7,334.1 L190.9,334.9   L192.2,335.5 L193.4,336.2 L194.6,336.9 L195.8,337.5 L197.1,338.2 L198.3,338.8 L199.5,339.4 L200.7,340.0   L202.0,340.6 L203.2,341.2 L204.4,341.7 L205.6,342.3 L206.8,342.8 L208.1,343.3 L209.3,343.9 L210.5,344.4   L211.7,344.9 L213.0,345.4 L214.2,345.9 L215.4,346.3 L216.6,346.8 L217.8,347.2 L219.1,347.7 L220.3,348.1   L221.5,348.5 L222.7,349.0 L224.0,349.4 L225.2,349.8 L226.4,350.2 L227.6,350.6 L228.9,350.9 L230.1,351.3   L231.3,351.7 L232.5,352.0 L233.7,352.4 L235.0,352.7 L236.2,353.1 L237.4,353.4 L238.6,353.7 L239.9,354.0   L241.1,354.4 L242.3,354.7 L243.5,355.0 L244.7,355.3 L246.0,355.5 L247.2,355.8 L248.4,356.1 L249.6,356.4   L250.9,356.6 L252.1,356.9 L253.3,357.2 L254.5,357.4 L255.8,357.7 L257.0,357.9 L258.2,358.1 L259.4,358.4   L260.6,358.6 L261.9,358.8 L263.1,359.0 L264.3,359.2 L265.5,359.5 L266.8,359.7 L268.0,359.9 L269.2,360.1   L270.4,360.3 L271.6,360.5 L272.9,360.6 L274.1,360.8 L275.3,361.0 L276.5,361.2 L277.8,361.4 L279.0,361.5   L280.2,361.7 L281.4,361.9 L282.7,362.0 L283.9,362.2 L285.1,362.3 L286.3,362.5 L287.5,362.6 L288.8,362.8   L290.0,362.9 L291.2,363.1 L292.4,363.2 L293.7,363.3 L294.9,363.5 L296.1,363.6 L297.3,363.7 L298.6,363.8   L299.8,364.0 L301.0,364.1 L302.2,364.2 L303.4,364.3 L304.7,364.4 L305.9,364.6 L307.1,364.7 L308.3,364.8   L309.6,364.9 L310.8,365.0 L312.0,365.1 L313.2,365.2 L314.4,365.3 L315.7,365.4 L316.9,365.5 L318.1,365.6   L319.3,365.7 L320.6,365.7 L321.8,365.8 L323.0,365.9 L324.2,366.0 L325.5,366.1 L326.7,366.2 L327.9,366.2   L329.1,366.3 L330.3,366.4 L331.6,366.5 L332.8,366.5 L334.0,366.6 L335.2,366.7 L336.5,366.8 L337.7,366.8   L338.9,366.9 L340.1,367.0 L341.3,367.0 L342.6,367.1 L343.8,367.1 L345.0,367.2 L346.2,367.3 L347.5,367.3   L348.7,367.4 L349.9,367.4 L351.1,367.5 L352.4,367.6 L353.6,367.6 L354.8,367.7 L356.0,367.7 L357.2,367.8   L358.5,367.8 L359.7,367.9 L360.9,367.9 L362.1,368.0 L363.4,368.0 L364.6,368.0 L365.8,368.1 L367.0,368.1   L368.2,368.2 L369.5,368.2 L370.7,368.3 L371.9,368.3 L373.1,368.3 L374.4,368.4 L375.6,368.4 L376.8,368.5   L378.0,368.5 L379.3,368.5 L380.5,368.6 L381.7,368.6 L382.9,368.6 L384.1,368.7 L385.4,368.7 L386.6,368.7   L387.8,368.8 L389.0,368.8 L390.3,368.8 L391.5,368.9 L392.7,368.9 L393.9,368.9 L395.1,369.0 L396.4,369.0   L397.6,369.0 L398.8,369.0 L400.0,369.1 L401.3,369.1 L402.5,369.1 L403.7,369.1 L404.9,369.2 L406.2,369.2   L407.4,369.2 L408.6,369.2 L409.8,369.3 L411.0,369.3 L412.3,369.3 L413.5,369.3 L414.7,369.4 L415.9,369.4   L417.2,369.4 L418.4,369.4 L419.6,369.4 L420.8,369.5 L422.0,369.5 L423.3,369.5 L424.5,369.5 L425.7,369.5   L426.9,369.6 L428.2,369.6 L429.4,369.6 L430.6,369.6 L431.8,369.6 L433.1,369.6 L434.3,369.7 L435.5,369.7   L436.7,369.7 L437.9,369.7 L439.2,369.7 L440.4,369.7 L441.6,369.8 L442.8,369.8 L444.1,369.8 L445.3,369.8   L446.5,369.8 L447.7,369.8 L448.9,369.8 L450.2,369.9 L451.4,369.9 L452.6,369.9 L453.8,369.9 L455.1,369.9   L456.3,369.9 L457.5,369.9 L458.7,369.9 L460.0,370.0 L461.2,370.0 L462.4,370.0 L463.6,370.0 L464.8,370.0   L466.1,370.0 L467.3,370.0 L468.5,370.0 L469.7,370.0 L471.0,370.1 L472.2,370.1 L473.4,370.1 L474.6,370.1   L475.8,370.1 L477.1,370.1 L478.3,370.1 L479.5,370.1 L480.7,370.1 L482.0,370.1 L483.2,370.1 L484.4,370.2   L485.6,370.2 L486.9,370.2 L488.1,370.2 L489.3,370.2 L490.5,370.2 L491.7,370.2 L493.0,370.2 L494.2,370.2   L495.4,370.2 L496.6,370.2 L497.9,370.2 L499.1,370.2 L500.3,370.3 L501.5,370.3 L502.7,370.3 L504.0,370.3   L505.2,370.3 L506.4,370.3 L507.6,370.3 L508.9,370.3 L510.1,370.3 L511.3,370.3 L512.5,370.3 L513.8,370.3   L515.0,370.3 L516.2,370.3 L517.4,370.3 L518.6,370.3 L519.9,370.4 L521.1,370.4 L522.3,370.4 L523.5,370.4   L524.8,370.4 L526.0,370.4 L527.2,370.4 L528.4,370.4 L529.6,370.4 L530.9,370.4 L532.1,370.4 L533.3,370.4   L534.5,370.4 L535.8,370.4 L537.0,370.4 L538.2,370.4 L539.4,370.4 L540.7,370.4 L541.9,370.4 L543.1,370.4    \" stroke=\"rgb(  0,   0, 255)\"/></g>\n",
       "\t</g>\n",
       "<g color=\"black\" fill=\"none\" stroke=\"currentColor\" stroke-linecap=\"butt\" stroke-linejoin=\"miter\" stroke-width=\"2.00\">\n",
       "</g>\n",
       "<g color=\"black\" fill=\"none\" stroke=\"black\" stroke-linecap=\"butt\" stroke-linejoin=\"miter\" stroke-width=\"0.50\">\n",
       "</g>\n",
       "<g color=\"black\" fill=\"none\" stroke=\"currentColor\" stroke-linecap=\"butt\" stroke-linejoin=\"miter\" stroke-width=\"0.50\">\n",
       "\t<path d=\"M54.0,381.6 L543.1,381.6  \" stroke=\"rgb( 38,  38,  38)\"/></g>\n",
       "<g color=\"black\" fill=\"none\" stroke=\"currentColor\" stroke-linecap=\"butt\" stroke-linejoin=\"miter\" stroke-width=\"0.50\">\n",
       "\t<path d=\"M54.0,11.3 L543.1,11.3  \" stroke=\"rgb( 38,  38,  38)\"/></g>\n",
       "<g color=\"black\" fill=\"none\" stroke=\"currentColor\" stroke-linecap=\"butt\" stroke-linejoin=\"miter\" stroke-width=\"0.50\">\n",
       "\t<path d=\"M54.0,381.6 L54.0,11.3  \" stroke=\"rgb( 38,  38,  38)\"/></g>\n",
       "<g color=\"black\" fill=\"none\" stroke=\"currentColor\" stroke-linecap=\"butt\" stroke-linejoin=\"miter\" stroke-width=\"0.50\">\n",
       "\t<path d=\"M543.1,381.6 L543.1,11.3  \" stroke=\"rgb( 38,  38,  38)\"/></g>\n",
       "<g color=\"black\" fill=\"none\" stroke=\"rgb( 38,  38,  38)\" stroke-linecap=\"butt\" stroke-linejoin=\"miter\" stroke-width=\"1.00\">\n",
       "</g>\n",
       "<g color=\"black\" fill=\"none\" stroke=\"currentColor\" stroke-linecap=\"butt\" stroke-linejoin=\"miter\" stroke-width=\"1.00\">\n",
       "</g>\n",
       "</g>\n",
       "</svg>"
      ],
      "text/plain": [
       "<IPython.core.display.SVG object>"
      ]
     },
     "metadata": {},
     "output_type": "display_data"
    }
   ],
   "source": [
    "% Plotting the convergence graph\n",
    "\n",
    "figure; \n",
    "plot(1:numel(J_history), J_history, '-b', 'LineWidth', 2);\n",
    "xlabel('Number of iterations');\n",
    "ylabel('Cost J');"
   ]
  },
  {
   "cell_type": "code",
   "execution_count": 34,
   "metadata": {
    "collapsed": false
   },
   "outputs": [
    {
     "name": "stdout",
     "output_type": "stream",
     "text": [
      "Theta computed from gradient descent: \n",
      " 334302.063993 \n",
      " 100087.116006 \n",
      " 3673.548451 \n",
      "\n"
     ]
    }
   ],
   "source": [
    "% Display gradient descent's result\n",
    "fprintf('Theta computed from gradient descent: \\n');\n",
    "fprintf(' %f \\n', theta);\n",
    "fprintf('\\n');\n"
   ]
  },
  {
   "cell_type": "code",
   "execution_count": 35,
   "metadata": {
    "collapsed": true
   },
   "outputs": [],
   "source": [
    "% Let's estimate a new one\n",
    "% Estimate the price of a 1650 sq-ft, 3 br house\n",
    "\n",
    "% Add it to the vector\n",
    "d = [1650 3];\n",
    "% normalize it \n",
    "d = (d - mu) ./ sigma;\n",
    "d = [ones(1,1), d];\n",
    "\n",
    "% Estimating price using the minimized theta\n",
    "price = d * theta;"
   ]
  },
  {
   "cell_type": "code",
   "execution_count": 48,
   "metadata": {
    "collapsed": false
   },
   "outputs": [
    {
     "name": "stdout",
     "output_type": "stream",
     "text": [
      "Predicted price of a 1650 sq-ft, 3 br house (using gradient descent):\n",
      " $293499.096\n"
     ]
    }
   ],
   "source": [
    "fprintf(['Predicted price of a 1650 sq-ft, 3 br house (using gradient descent):\\n $%.3f\\n'], price);"
   ]
  },
  {
   "cell_type": "markdown",
   "metadata": {},
   "source": [
    "## Solving it with Normal Equations:"
   ]
  },
  {
   "cell_type": "code",
   "execution_count": 37,
   "metadata": {
    "collapsed": false
   },
   "outputs": [
    {
     "name": "stdout",
     "output_type": "stream",
     "text": [
      "Solving with normal equations...\n"
     ]
    }
   ],
   "source": [
    "fprintf('Solving with normal equations...\\n');"
   ]
  },
  {
   "cell_type": "code",
   "execution_count": 39,
   "metadata": {
    "collapsed": false
   },
   "outputs": [],
   "source": [
    "%% Load Data\n",
    "data = csvread('./data/ex1data2.txt');\n",
    "X = data(:, 1:2);\n",
    "y = data(:, 3);\n",
    "m = length(y);"
   ]
  },
  {
   "cell_type": "code",
   "execution_count": 40,
   "metadata": {
    "collapsed": true
   },
   "outputs": [],
   "source": [
    "% Add intercept term to X\n",
    "X = [ones(m, 1) X];"
   ]
  },
  {
   "cell_type": "code",
   "execution_count": 41,
   "metadata": {
    "collapsed": true
   },
   "outputs": [],
   "source": [
    "% Calculate the parameters from the normal equations\n",
    "theta = normalEqn(X, y);"
   ]
  },
  {
   "cell_type": "code",
   "execution_count": 42,
   "metadata": {
    "collapsed": false
   },
   "outputs": [
    {
     "name": "stdout",
     "output_type": "stream",
     "text": [
      "Theta computed from the normal equations: \n",
      "89597.909544 \n",
      "139.210674 \n",
      "-8738.019113 \n",
      "\n"
     ]
    }
   ],
   "source": [
    "fprintf('Theta computed from the normal equations: \\n');\n",
    "fprintf('%f \\n', theta);\n",
    "fprintf('\\n');"
   ]
  },
  {
   "cell_type": "code",
   "execution_count": 44,
   "metadata": {
    "collapsed": false
   },
   "outputs": [],
   "source": [
    "d = [1 1653 3];\n",
    "price = d * theta ;"
   ]
  },
  {
   "cell_type": "code",
   "execution_count": 46,
   "metadata": {
    "collapsed": false
   },
   "outputs": [
    {
     "name": "stdout",
     "output_type": "stream",
     "text": [
      "Predicted price of a 1650 sq-ft, 3 br house (using normal equations):\n",
      " $293499.096\n"
     ]
    }
   ],
   "source": [
    "fprintf(['Predicted price of a 1650 sq-ft, 3 br house (using normal equations):\\n $%.3f\\n'], price);"
   ]
  },
  {
   "cell_type": "code",
   "execution_count": null,
   "metadata": {
    "collapsed": true
   },
   "outputs": [],
   "source": []
  }
 ],
 "metadata": {
  "anaconda-cloud": {},
  "kernelspec": {
   "display_name": "Octave",
   "language": "octave",
   "name": "octave"
  },
  "language_info": {
   "file_extension": ".m",
   "help_links": [
    {
     "text": "GNU Octave",
     "url": "https://www.gnu.org/software/octave/support.html"
    },
    {
     "text": "Octave Kernel",
     "url": "https://github.com/Calysto/octave_kernel"
    },
    {
     "text": "MetaKernel Magics",
     "url": "https://github.com/calysto/metakernel/blob/master/metakernel/magics/README.md"
    }
   ],
   "mimetype": "text/x-octave",
   "name": "octave",
   "version": "4.2.0"
  }
 },
 "nbformat": 4,
 "nbformat_minor": 1
}

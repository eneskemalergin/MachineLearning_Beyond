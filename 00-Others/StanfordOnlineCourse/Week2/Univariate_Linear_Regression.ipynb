{
 "cells": [
  {
   "cell_type": "code",
   "execution_count": 49,
   "metadata": {
    "collapsed": true
   },
   "outputs": [],
   "source": [
    "clear; close all; clc"
   ]
  },
  {
   "cell_type": "code",
   "execution_count": 50,
   "metadata": {
    "collapsed": true
   },
   "outputs": [],
   "source": [
    "% Loading given data\n",
    "data = load('./data/ex1data1.txt');\n",
    "X = data(:, 1); \n",
    "y = data(:, 2);\n",
    "m = length(y);"
   ]
  },
  {
   "cell_type": "code",
   "execution_count": 51,
   "metadata": {
    "collapsed": false
   },
   "outputs": [
    {
     "name": "stdout",
     "output_type": "stream",
     "text": [
      "Plotting Data ... \n"
     ]
    },
    {
     "data": {
      "image/svg+xml": [
       "<svg height=\"420px\" viewBox=\"0 0 560 420\" width=\"560px\" xmlns=\"http://www.w3.org/2000/svg\" xmlns:xlink=\"http://www.w3.org/1999/xlink\">\n",
       "\n",
       "<title>Gnuplot</title>\n",
       "<desc>Produced by GNUPLOT 5.0 patchlevel 5 </desc>\n",
       "\n",
       "<g id=\"gnuplot_canvas\">\n",
       "\n",
       "<rect fill=\"#ffffff\" height=\"420\" width=\"560\" x=\"0\" y=\"0\"/>\n",
       "<defs>\n",
       "\n",
       "\t<circle id=\"gpDot\" r=\"0.5\" stroke-width=\"0.5\"/>\n",
       "\t<path d=\"M-1,0 h2 M0,-1 v2\" id=\"gpPt0\" stroke=\"currentColor\" stroke-width=\"0.333\"/>\n",
       "\t<path d=\"M-1,-1 L1,1 M1,-1 L-1,1\" id=\"gpPt1\" stroke=\"currentColor\" stroke-width=\"0.333\"/>\n",
       "\t<path d=\"M-1,0 L1,0 M0,-1 L0,1 M-1,-1 L1,1 M-1,1 L1,-1\" id=\"gpPt2\" stroke=\"currentColor\" stroke-width=\"0.333\"/>\n",
       "\t<rect height=\"2\" id=\"gpPt3\" stroke=\"currentColor\" stroke-width=\"0.333\" width=\"2\" x=\"-1\" y=\"-1\"/>\n",
       "\t<rect fill=\"currentColor\" height=\"2\" id=\"gpPt4\" stroke=\"currentColor\" stroke-width=\"0.333\" width=\"2\" x=\"-1\" y=\"-1\"/>\n",
       "\t<circle cx=\"0\" cy=\"0\" id=\"gpPt5\" r=\"1\" stroke=\"currentColor\" stroke-width=\"0.333\"/>\n",
       "\t<use fill=\"currentColor\" id=\"gpPt6\" stroke=\"none\" xlink:href=\"#gpPt5\"/>\n",
       "\t<path d=\"M0,-1.33 L-1.33,0.67 L1.33,0.67 z\" id=\"gpPt7\" stroke=\"currentColor\" stroke-width=\"0.333\"/>\n",
       "\t<use fill=\"currentColor\" id=\"gpPt8\" stroke=\"none\" xlink:href=\"#gpPt7\"/>\n",
       "\t<use id=\"gpPt9\" stroke=\"currentColor\" transform=\"rotate(180)\" xlink:href=\"#gpPt7\"/>\n",
       "\t<use fill=\"currentColor\" id=\"gpPt10\" stroke=\"none\" xlink:href=\"#gpPt9\"/>\n",
       "\t<use id=\"gpPt11\" stroke=\"currentColor\" transform=\"rotate(45)\" xlink:href=\"#gpPt3\"/>\n",
       "\t<use fill=\"currentColor\" id=\"gpPt12\" stroke=\"none\" xlink:href=\"#gpPt11\"/>\n",
       "\t<path d=\"M0,1.330 L1.265,0.411 L0.782,-1.067 L-0.782,-1.076 L-1.265,0.411 z\" id=\"gpPt13\" stroke=\"currentColor\" stroke-width=\"0.333\"/>\n",
       "\t<use fill=\"currentColor\" id=\"gpPt14\" stroke=\"none\" xlink:href=\"#gpPt13\"/>\n",
       "\t<filter filterUnits=\"objectBoundingBox\" height=\"1\" id=\"textbox\" width=\"1\" x=\"0\" y=\"0\">\n",
       "\t  <feFlood flood-color=\"#FFFFFF\" flood-opacity=\"1\" result=\"bgnd\"/>\n",
       "\t  <feComposite in=\"SourceGraphic\" in2=\"bgnd\" operator=\"atop\"/>\n",
       "\t</filter>\n",
       "\t<filter filterUnits=\"objectBoundingBox\" height=\"1\" id=\"greybox\" width=\"1\" x=\"0\" y=\"0\">\n",
       "\t  <feFlood flood-color=\"lightgrey\" flood-opacity=\"1\" result=\"grey\"/>\n",
       "\t  <feComposite in=\"SourceGraphic\" in2=\"grey\" operator=\"atop\"/>\n",
       "\t</filter>\n",
       "</defs>\n",
       "<g color=\"#FFFFFF\" fill=\"none\" stroke=\"currentColor\" stroke-linecap=\"butt\" stroke-linejoin=\"miter\" stroke-width=\"1.00\">\n",
       "</g>\n",
       "<g color=\"black\" fill=\"none\" stroke=\"currentColor\" stroke-linecap=\"butt\" stroke-linejoin=\"miter\" stroke-width=\"1.00\">\n",
       "\t<g shape-rendering=\"crispEdges\" stroke=\"none\">\n",
       "\t\t<polygon fill=\"rgb(255, 255, 255)\" points=\"37.2,381.6 543.0,381.6 543.0,11.4 37.2,11.4 \"/>\n",
       "\t</g>\n",
       "</g>\n",
       "<g color=\"black\" fill=\"none\" stroke=\"currentColor\" stroke-linecap=\"butt\" stroke-linejoin=\"miter\" stroke-width=\"1.00\">\n",
       "\t<path d=\"M37.2,381.6 L45.6,381.6  \" stroke=\"rgb(  0,   0,   0)\"/>\t<g fill=\"rgb(38,38,38)\" font-family=\"Arial\" font-size=\"10.00\" stroke=\"none\" text-anchor=\"end\" transform=\"translate(31.6,384.9)\">\n",
       "\t\t<text><tspan font-family=\"Arial\">-5</tspan></text>\n",
       "\t</g>\n",
       "</g>\n",
       "<g color=\"black\" fill=\"none\" stroke=\"currentColor\" stroke-linecap=\"butt\" stroke-linejoin=\"miter\" stroke-width=\"1.00\">\n",
       "\t<path d=\"M37.2,319.9 L45.6,319.9  \" stroke=\"rgb(  0,   0,   0)\"/>\t<g fill=\"rgb(38,38,38)\" font-family=\"Arial\" font-size=\"10.00\" stroke=\"none\" text-anchor=\"end\" transform=\"translate(31.6,323.2)\">\n",
       "\t\t<text><tspan font-family=\"Arial\">0</tspan></text>\n",
       "\t</g>\n",
       "</g>\n",
       "<g color=\"black\" fill=\"none\" stroke=\"currentColor\" stroke-linecap=\"butt\" stroke-linejoin=\"miter\" stroke-width=\"1.00\">\n",
       "\t<path d=\"M37.2,258.2 L45.6,258.2  \" stroke=\"rgb(  0,   0,   0)\"/>\t<g fill=\"rgb(38,38,38)\" font-family=\"Arial\" font-size=\"10.00\" stroke=\"none\" text-anchor=\"end\" transform=\"translate(31.6,261.5)\">\n",
       "\t\t<text><tspan font-family=\"Arial\">5</tspan></text>\n",
       "\t</g>\n",
       "</g>\n",
       "<g color=\"black\" fill=\"none\" stroke=\"currentColor\" stroke-linecap=\"butt\" stroke-linejoin=\"miter\" stroke-width=\"1.00\">\n",
       "\t<path d=\"M37.2,196.4 L45.6,196.4  \" stroke=\"rgb(  0,   0,   0)\"/>\t<g fill=\"rgb(38,38,38)\" font-family=\"Arial\" font-size=\"10.00\" stroke=\"none\" text-anchor=\"end\" transform=\"translate(31.6,199.7)\">\n",
       "\t\t<text><tspan font-family=\"Arial\">10</tspan></text>\n",
       "\t</g>\n",
       "</g>\n",
       "<g color=\"black\" fill=\"none\" stroke=\"currentColor\" stroke-linecap=\"butt\" stroke-linejoin=\"miter\" stroke-width=\"1.00\">\n",
       "\t<path d=\"M37.2,134.7 L45.6,134.7  \" stroke=\"rgb(  0,   0,   0)\"/>\t<g fill=\"rgb(38,38,38)\" font-family=\"Arial\" font-size=\"10.00\" stroke=\"none\" text-anchor=\"end\" transform=\"translate(31.6,138.0)\">\n",
       "\t\t<text><tspan font-family=\"Arial\">15</tspan></text>\n",
       "\t</g>\n",
       "</g>\n",
       "<g color=\"black\" fill=\"none\" stroke=\"currentColor\" stroke-linecap=\"butt\" stroke-linejoin=\"miter\" stroke-width=\"1.00\">\n",
       "\t<path d=\"M37.2,73.0 L45.6,73.0  \" stroke=\"rgb(  0,   0,   0)\"/>\t<g fill=\"rgb(38,38,38)\" font-family=\"Arial\" font-size=\"10.00\" stroke=\"none\" text-anchor=\"end\" transform=\"translate(31.6,76.3)\">\n",
       "\t\t<text><tspan font-family=\"Arial\">20</tspan></text>\n",
       "\t</g>\n",
       "</g>\n",
       "<g color=\"black\" fill=\"none\" stroke=\"currentColor\" stroke-linecap=\"butt\" stroke-linejoin=\"miter\" stroke-width=\"1.00\">\n",
       "\t<path d=\"M37.2,11.3 L45.6,11.3  \" stroke=\"rgb(  0,   0,   0)\"/>\t<g fill=\"rgb(38,38,38)\" font-family=\"Arial\" font-size=\"10.00\" stroke=\"none\" text-anchor=\"end\" transform=\"translate(31.6,14.6)\">\n",
       "\t\t<text><tspan font-family=\"Arial\">25</tspan></text>\n",
       "\t</g>\n",
       "</g>\n",
       "<g color=\"black\" fill=\"none\" stroke=\"currentColor\" stroke-linecap=\"butt\" stroke-linejoin=\"miter\" stroke-width=\"1.00\">\n",
       "\t<path d=\"M37.2,381.6 L37.2,373.2  \" stroke=\"rgb(  0,   0,   0)\"/>\t<g fill=\"rgb(38,38,38)\" font-family=\"Arial\" font-size=\"10.00\" stroke=\"none\" text-anchor=\"middle\" transform=\"translate(37.2,396.9)\">\n",
       "\t\t<text><tspan font-family=\"Arial\">5</tspan></text>\n",
       "\t</g>\n",
       "</g>\n",
       "<g color=\"black\" fill=\"none\" stroke=\"currentColor\" stroke-linecap=\"butt\" stroke-linejoin=\"miter\" stroke-width=\"1.00\">\n",
       "\t<path d=\"M163.7,381.6 L163.7,373.2  \" stroke=\"rgb(  0,   0,   0)\"/>\t<g fill=\"rgb(38,38,38)\" font-family=\"Arial\" font-size=\"10.00\" stroke=\"none\" text-anchor=\"middle\" transform=\"translate(163.7,396.9)\">\n",
       "\t\t<text><tspan font-family=\"Arial\">10</tspan></text>\n",
       "\t</g>\n",
       "</g>\n",
       "<g color=\"black\" fill=\"none\" stroke=\"currentColor\" stroke-linecap=\"butt\" stroke-linejoin=\"miter\" stroke-width=\"1.00\">\n",
       "\t<path d=\"M290.2,381.6 L290.2,373.2  \" stroke=\"rgb(  0,   0,   0)\"/>\t<g fill=\"rgb(38,38,38)\" font-family=\"Arial\" font-size=\"10.00\" stroke=\"none\" text-anchor=\"middle\" transform=\"translate(290.2,396.9)\">\n",
       "\t\t<text><tspan font-family=\"Arial\">15</tspan></text>\n",
       "\t</g>\n",
       "</g>\n",
       "<g color=\"black\" fill=\"none\" stroke=\"currentColor\" stroke-linecap=\"butt\" stroke-linejoin=\"miter\" stroke-width=\"1.00\">\n",
       "\t<path d=\"M416.6,381.6 L416.6,373.2  \" stroke=\"rgb(  0,   0,   0)\"/>\t<g fill=\"rgb(38,38,38)\" font-family=\"Arial\" font-size=\"10.00\" stroke=\"none\" text-anchor=\"middle\" transform=\"translate(416.6,396.9)\">\n",
       "\t\t<text><tspan font-family=\"Arial\">20</tspan></text>\n",
       "\t</g>\n",
       "</g>\n",
       "<g color=\"black\" fill=\"none\" stroke=\"currentColor\" stroke-linecap=\"butt\" stroke-linejoin=\"miter\" stroke-width=\"1.00\">\n",
       "\t<path d=\"M543.1,381.6 L543.1,373.2  \" stroke=\"rgb(  0,   0,   0)\"/>\t<g fill=\"rgb(38,38,38)\" font-family=\"Arial\" font-size=\"10.00\" stroke=\"none\" text-anchor=\"middle\" transform=\"translate(543.1,396.9)\">\n",
       "\t\t<text><tspan font-family=\"Arial\">25</tspan></text>\n",
       "\t</g>\n",
       "</g>\n",
       "<g color=\"black\" fill=\"none\" stroke=\"currentColor\" stroke-linecap=\"butt\" stroke-linejoin=\"miter\" stroke-width=\"1.00\">\n",
       "</g>\n",
       "<g color=\"black\" fill=\"none\" stroke=\"currentColor\" stroke-linecap=\"butt\" stroke-linejoin=\"miter\" stroke-width=\"1.00\">\n",
       "\t<g fill=\"rgb(38,38,38)\" font-family=\"Arial\" font-size=\"11.00\" stroke=\"none\" text-anchor=\"middle\" transform=\"translate(12.3,196.5) rotate(-90)\">\n",
       "\t\t<text><tspan font-family=\"Arial\">Revenue</tspan></text>\n",
       "\t</g>\n",
       "</g>\n",
       "<g color=\"black\" fill=\"none\" stroke=\"currentColor\" stroke-linecap=\"butt\" stroke-linejoin=\"miter\" stroke-width=\"1.00\">\n",
       "\t<g fill=\"rgb(38,38,38)\" font-family=\"Arial\" font-size=\"11.00\" stroke=\"none\" text-anchor=\"middle\" transform=\"translate(290.1,415.2)\">\n",
       "\t\t<text><tspan font-family=\"Arial\">Population</tspan></text>\n",
       "\t</g>\n",
       "</g>\n",
       "<g color=\"black\" fill=\"none\" stroke=\"currentColor\" stroke-linecap=\"butt\" stroke-linejoin=\"miter\" stroke-width=\"1.00\">\n",
       "</g>\n",
       "\t<g id=\"gnuplot_plot_1a\"><title>gnuplot_plot_1a</title>\n",
       "<g color=\"#FFFFFF\" fill=\"none\" stroke=\"currentColor\" stroke-linecap=\"butt\" stroke-linejoin=\"miter\" stroke-width=\"0.50\">\n",
       "</g>\n",
       "<g color=\"black\" fill=\"none\" stroke=\"currentColor\" stroke-linecap=\"butt\" stroke-linejoin=\"miter\" stroke-width=\"0.50\">\n",
       "\t<g onmousemove=\"gnuplot_svg.showHypertext(evt,'')\" onmouseout=\"gnuplot_svg.hideHypertext()\"><title> </title>\n",
       "\t<use color=\"rgb(255,   0,   0)\" transform=\"translate(65.3,102.7) scale(10.00)\" xlink:href=\"#gpPt1\"/></g>\n",
       "\t<use color=\"rgb(255,   0,   0)\" transform=\"translate(50.5,207.2) scale(10.00)\" xlink:href=\"#gpPt1\"/>\n",
       "\t<use color=\"rgb(255,   0,   0)\" transform=\"translate(126.2,151.2) scale(10.00)\" xlink:href=\"#gpPt1\"/>\n",
       "\t<use color=\"rgb(255,   0,   0)\" transform=\"translate(87.9,173.6) scale(10.00)\" xlink:href=\"#gpPt1\"/>\n",
       "\t<use color=\"rgb(255,   0,   0)\" transform=\"translate(58.9,235.7) scale(10.00)\" xlink:href=\"#gpPt1\"/>\n",
       "\t<use color=\"rgb(255,   0,   0)\" transform=\"translate(122.8,173.2) scale(10.00)\" xlink:href=\"#gpPt1\"/>\n",
       "\t<use color=\"rgb(255,   0,   0)\" transform=\"translate(99.8,266.2) scale(10.00)\" xlink:href=\"#gpPt1\"/>\n",
       "\t<use color=\"rgb(255,   0,   0)\" transform=\"translate(127.7,171.8) scale(10.00)\" xlink:href=\"#gpPt1\"/>\n",
       "\t<use color=\"rgb(255,   0,   0)\" transform=\"translate(74.8,238.4) scale(10.00)\" xlink:href=\"#gpPt1\"/>\n",
       "\t<use color=\"rgb(255,   0,   0)\" transform=\"translate(38.6,272.8) scale(10.00)\" xlink:href=\"#gpPt1\"/>\n",
       "\t<use color=\"rgb(255,   0,   0)\" transform=\"translate(55.2,279.7) scale(10.00)\" xlink:href=\"#gpPt1\"/>\n",
       "\t<use color=\"rgb(255,   0,   0)\" transform=\"translate(269.0,128.5) scale(10.00)\" xlink:href=\"#gpPt1\"/>\n",
       "\t<use color=\"rgb(255,   0,   0)\" transform=\"translate(55.8,280.9) scale(10.00)\" xlink:href=\"#gpPt1\"/>\n",
       "\t<use color=\"rgb(255,   0,   0)\" transform=\"translate(123.4,230.7) scale(10.00)\" xlink:href=\"#gpPt1\"/>\n",
       "\t<use color=\"rgb(255,   0,   0)\" transform=\"translate(53.4,311.0) scale(10.00)\" xlink:href=\"#gpPt1\"/>\n",
       "\t<use color=\"rgb(255,   0,   0)\" transform=\"translate(46.8,276.5) scale(10.00)\" xlink:href=\"#gpPt1\"/>\n",
       "\t<use color=\"rgb(255,   0,   0)\" transform=\"translate(71.7,254.4) scale(10.00)\" xlink:href=\"#gpPt1\"/>\n",
       "\t<use color=\"rgb(255,   0,   0)\" transform=\"translate(40.5,313.0) scale(10.00)\" xlink:href=\"#gpPt1\"/>\n",
       "\t<use color=\"rgb(255,   0,   0)\" transform=\"translate(73.4,274.8) scale(10.00)\" xlink:href=\"#gpPt1\"/>\n",
       "\t<use color=\"rgb(255,   0,   0)\" transform=\"translate(89.6,253.4) scale(10.00)\" xlink:href=\"#gpPt1\"/>\n",
       "\t<use color=\"rgb(255,   0,   0)\" transform=\"translate(67.3,281.1) scale(10.00)\" xlink:href=\"#gpPt1\"/>\n",
       "\t<use color=\"rgb(255,   0,   0)\" transform=\"translate(423.5,51.2) scale(10.00)\" xlink:href=\"#gpPt1\"/>\n",
       "\t<use color=\"rgb(255,   0,   0)\" transform=\"translate(49.6,267.3) scale(10.00)\" xlink:href=\"#gpPt1\"/>\n",
       "\t<use color=\"rgb(255,   0,   0)\" transform=\"translate(70.7,255.9) scale(10.00)\" xlink:href=\"#gpPt1\"/>\n",
       "\t<use color=\"rgb(255,   0,   0)\" transform=\"translate(51.5,281.8) scale(10.00)\" xlink:href=\"#gpPt1\"/>\n",
       "\t<use color=\"rgb(255,   0,   0)\" transform=\"translate(389.9,40.5) scale(10.00)\" xlink:href=\"#gpPt1\"/>\n",
       "\t<use color=\"rgb(255,   0,   0)\" transform=\"translate(235.2,153.2) scale(10.00)\" xlink:href=\"#gpPt1\"/>\n",
       "\t<use color=\"rgb(255,   0,   0)\" transform=\"translate(187.9,232.9) scale(10.00)\" xlink:href=\"#gpPt1\"/>\n",
       "\t<use color=\"rgb(255,   0,   0)\" transform=\"translate(244.0,138.5) scale(10.00)\" xlink:href=\"#gpPt1\"/>\n",
       "\t<use color=\"rgb(255,   0,   0)\" transform=\"translate(472.3,21.8) scale(10.00)\" xlink:href=\"#gpPt1\"/>\n",
       "\t<use color=\"rgb(255,   0,   0)\" transform=\"translate(43.6,334.9) scale(10.00)\" xlink:href=\"#gpPt1\"/>\n",
       "\t<use color=\"rgb(255,   0,   0)\" transform=\"translate(77.4,245.9) scale(10.00)\" xlink:href=\"#gpPt1\"/>\n",
       "\t<use color=\"rgb(255,   0,   0)\" transform=\"translate(144.7,170.1) scale(10.00)\" xlink:href=\"#gpPt1\"/>\n",
       "\t<use color=\"rgb(255,   0,   0)\" transform=\"translate(59.8,297.1) scale(10.00)\" xlink:href=\"#gpPt1\"/>\n",
       "\t<use color=\"rgb(255,   0,   0)\" transform=\"translate(118.4,239.1) scale(10.00)\" xlink:href=\"#gpPt1\"/>\n",
       "\t<use color=\"rgb(255,   0,   0)\" transform=\"translate(111.4,263.6) scale(10.00)\" xlink:href=\"#gpPt1\"/>\n",
       "\t<use color=\"rgb(255,   0,   0)\" transform=\"translate(115.5,269.1) scale(10.00)\" xlink:href=\"#gpPt1\"/>\n",
       "\t<use color=\"rgb(255,   0,   0)\" transform=\"translate(52.5,278.0) scale(10.00)\" xlink:href=\"#gpPt1\"/>\n",
       "\t<use color=\"rgb(255,   0,   0)\" transform=\"translate(235.4,195.0) scale(10.00)\" xlink:href=\"#gpPt1\"/>\n",
       "\t<use color=\"rgb(255,   0,   0)\" transform=\"translate(71.4,252.0) scale(10.00)\" xlink:href=\"#gpPt1\"/>\n",
       "\t<use color=\"rgb(255,   0,   0)\" transform=\"translate(47.5,313.0) scale(10.00)\" xlink:href=\"#gpPt1\"/>\n",
       "\t<use color=\"rgb(255,   0,   0)\" transform=\"translate(84.8,271.6) scale(10.00)\" xlink:href=\"#gpPt1\"/>\n",
       "\t<use color=\"rgb(255,   0,   0)\" transform=\"translate(206.9,253.4) scale(10.00)\" xlink:href=\"#gpPt1\"/>\n",
       "\t<use color=\"rgb(255,   0,   0)\" transform=\"translate(56.8,289.8) scale(10.00)\" xlink:href=\"#gpPt1\"/>\n",
       "\t<use color=\"rgb(255,   0,   0)\" transform=\"translate(108.7,236.8) scale(10.00)\" xlink:href=\"#gpPt1\"/>\n",
       "\t<use color=\"rgb(255,   0,   0)\" transform=\"translate(90.1,307.0) scale(10.00)\" xlink:href=\"#gpPt1\"/>\n",
       "\t<use color=\"rgb(255,   0,   0)\" transform=\"translate(39.0,256.5) scale(10.00)\" xlink:href=\"#gpPt1\"/>\n",
       "\t<use color=\"rgb(255,   0,   0)\" transform=\"translate(57.5,297.1) scale(10.00)\" xlink:href=\"#gpPt1\"/>\n",
       "\t<use color=\"rgb(255,   0,   0)\" transform=\"translate(206.7,221.1) scale(10.00)\" xlink:href=\"#gpPt1\"/>\n",
       "\t<use color=\"rgb(255,   0,   0)\" transform=\"translate(50.9,307.3) scale(10.00)\" xlink:href=\"#gpPt1\"/>\n",
       "\t<use color=\"rgb(255,   0,   0)\" transform=\"translate(101.5,236.6) scale(10.00)\" xlink:href=\"#gpPt1\"/>\n",
       "\t<use color=\"rgb(255,   0,   0)\" transform=\"translate(45.0,297.2) scale(10.00)\" xlink:href=\"#gpPt1\"/>\n",
       "\t<use color=\"rgb(255,   0,   0)\" transform=\"translate(98.5,266.9) scale(10.00)\" xlink:href=\"#gpPt1\"/>\n",
       "\t<use color=\"rgb(255,   0,   0)\" transform=\"translate(103.0,258.2) scale(10.00)\" xlink:href=\"#gpPt1\"/>\n",
       "\t<use color=\"rgb(255,   0,   0)\" transform=\"translate(70.9,302.3) scale(10.00)\" xlink:href=\"#gpPt1\"/>\n",
       "\t<use color=\"rgb(255,   0,   0)\" transform=\"translate(71.6,337.4) scale(10.00)\" xlink:href=\"#gpPt1\"/>\n",
       "\t<use color=\"rgb(255,   0,   0)\" transform=\"translate(69.4,289.3) scale(10.00)\" xlink:href=\"#gpPt1\"/>\n",
       "\t<use color=\"rgb(255,   0,   0)\" transform=\"translate(53.4,263.1) scale(10.00)\" xlink:href=\"#gpPt1\"/>\n",
       "\t<use color=\"rgb(255,   0,   0)\" transform=\"translate(146.2,271.0) scale(10.00)\" xlink:href=\"#gpPt1\"/>\n",
       "\t<use color=\"rgb(255,   0,   0)\" transform=\"translate(149.9,253.1) scale(10.00)\" xlink:href=\"#gpPt1\"/>\n",
       "\t<use color=\"rgb(255,   0,   0)\" transform=\"translate(134.0,256.1) scale(10.00)\" xlink:href=\"#gpPt1\"/>\n",
       "\t<use color=\"rgb(255,   0,   0)\" transform=\"translate(41.7,329.1) scale(10.00)\" xlink:href=\"#gpPt1\"/>\n",
       "\t<use color=\"rgb(255,   0,   0)\" transform=\"translate(449.0,98.6) scale(10.00)\" xlink:href=\"#gpPt1\"/>\n",
       "\t<use color=\"rgb(255,   0,   0)\" transform=\"translate(287.8,171.1) scale(10.00)\" xlink:href=\"#gpPt1\"/>\n",
       "\t<use color=\"rgb(255,   0,   0)\" transform=\"translate(390.3,109.4) scale(10.00)\" xlink:href=\"#gpPt1\"/>\n",
       "\t<use color=\"rgb(255,   0,   0)\" transform=\"translate(93.3,259.6) scale(10.00)\" xlink:href=\"#gpPt1\"/>\n",
       "\t<use color=\"rgb(255,   0,   0)\" transform=\"translate(120.5,249.0) scale(10.00)\" xlink:href=\"#gpPt1\"/>\n",
       "\t<use color=\"rgb(255,   0,   0)\" transform=\"translate(169.6,223.9) scale(10.00)\" xlink:href=\"#gpPt1\"/>\n",
       "\t<use color=\"rgb(255,   0,   0)\" transform=\"translate(49.8,307.3) scale(10.00)\" xlink:href=\"#gpPt1\"/>\n",
       "\t<use color=\"rgb(255,   0,   0)\" transform=\"translate(425.3,60.8) scale(10.00)\" xlink:href=\"#gpPt1\"/>\n",
       "\t<use color=\"rgb(255,   0,   0)\" transform=\"translate(167.1,237.4) scale(10.00)\" xlink:href=\"#gpPt1\"/>\n",
       "\t<use color=\"rgb(255,   0,   0)\" transform=\"translate(96.3,270.2) scale(10.00)\" xlink:href=\"#gpPt1\"/>\n",
       "\t<use color=\"rgb(255,   0,   0)\" transform=\"translate(62.7,304.1) scale(10.00)\" xlink:href=\"#gpPt1\"/>\n",
       "\t<use color=\"rgb(255,   0,   0)\" transform=\"translate(93.5,278.6) scale(10.00)\" xlink:href=\"#gpPt1\"/>\n",
       "\t<use color=\"rgb(255,   0,   0)\" transform=\"translate(37.9,353.0) scale(10.00)\" xlink:href=\"#gpPt1\"/>\n",
       "\t<use color=\"rgb(255,   0,   0)\" transform=\"translate(76.4,316.2) scale(10.00)\" xlink:href=\"#gpPt1\"/>\n",
       "\t<use color=\"rgb(255,   0,   0)\" transform=\"translate(101.4,271.9) scale(10.00)\" xlink:href=\"#gpPt1\"/>\n",
       "\t<use color=\"rgb(255,   0,   0)\" transform=\"translate(38.1,249.5) scale(10.00)\" xlink:href=\"#gpPt1\"/>\n",
       "\t<use color=\"rgb(255,   0,   0)\" transform=\"translate(170.6,236.5) scale(10.00)\" xlink:href=\"#gpPt1\"/>\n",
       "\t<use color=\"rgb(255,   0,   0)\" transform=\"translate(39.9,294.5) scale(10.00)\" xlink:href=\"#gpPt1\"/>\n",
       "\t<use color=\"rgb(255,   0,   0)\" transform=\"translate(55.6,314.0) scale(10.00)\" xlink:href=\"#gpPt1\"/>\n",
       "\t<use color=\"rgb(255,   0,   0)\" transform=\"translate(42.0,317.4) scale(10.00)\" xlink:href=\"#gpPt1\"/>\n",
       "\t<use color=\"rgb(255,   0,   0)\" transform=\"translate(71.5,311.5) scale(10.00)\" xlink:href=\"#gpPt1\"/>\n",
       "\t<use color=\"rgb(255,   0,   0)\" transform=\"translate(157.8,226.8) scale(10.00)\" xlink:href=\"#gpPt1\"/>\n",
       "\t<use color=\"rgb(255,   0,   0)\" transform=\"translate(75.5,253.9) scale(10.00)\" xlink:href=\"#gpPt1\"/>\n",
       "\t<use color=\"rgb(255,   0,   0)\" transform=\"translate(126.2,267.5) scale(10.00)\" xlink:href=\"#gpPt1\"/>\n",
       "\t<use color=\"rgb(255,   0,   0)\" transform=\"translate(142.9,236.0) scale(10.00)\" xlink:href=\"#gpPt1\"/>\n",
       "\t<use color=\"rgb(255,   0,   0)\" transform=\"translate(62.5,308.4) scale(10.00)\" xlink:href=\"#gpPt1\"/>\n",
       "\t<use color=\"rgb(255,   0,   0)\" transform=\"translate(50.4,318.0) scale(10.00)\" xlink:href=\"#gpPt1\"/>\n",
       "\t<use color=\"rgb(255,   0,   0)\" transform=\"translate(38.7,285.1) scale(10.00)\" xlink:href=\"#gpPt1\"/>\n",
       "\t<use color=\"rgb(255,   0,   0)\" transform=\"translate(55.1,297.1) scale(10.00)\" xlink:href=\"#gpPt1\"/>\n",
       "\t<use color=\"rgb(255,   0,   0)\" transform=\"translate(103.9,266.9) scale(10.00)\" xlink:href=\"#gpPt1\"/>\n",
       "\t<use color=\"rgb(255,   0,   0)\" transform=\"translate(59.2,231.0) scale(10.00)\" xlink:href=\"#gpPt1\"/>\n",
       "\t<use color=\"rgb(255,   0,   0)\" transform=\"translate(44.9,295.4) scale(10.00)\" xlink:href=\"#gpPt1\"/>\n",
       "\t<use color=\"rgb(255,   0,   0)\" transform=\"translate(120.5,318.1) scale(10.00)\" xlink:href=\"#gpPt1\"/>\n",
       "\t<use color=\"rgb(255,   0,   0)\" transform=\"translate(249.5,208.1) scale(10.00)\" xlink:href=\"#gpPt1\"/>\n",
       "\t<use color=\"rgb(255,   0,   0)\" transform=\"translate(48.3,312.3) scale(10.00)\" xlink:href=\"#gpPt1\"/>\n",
       "</g>\n",
       "\t</g>\n",
       "<g color=\"#FFFFFF\" fill=\"none\" stroke=\"rgb(255,   0,   0)\" stroke-linecap=\"butt\" stroke-linejoin=\"miter\" stroke-width=\"2.00\">\n",
       "</g>\n",
       "<g color=\"black\" fill=\"none\" stroke=\"currentColor\" stroke-linecap=\"butt\" stroke-linejoin=\"miter\" stroke-width=\"2.00\">\n",
       "</g>\n",
       "<g color=\"black\" fill=\"none\" stroke=\"black\" stroke-linecap=\"butt\" stroke-linejoin=\"miter\" stroke-width=\"0.50\">\n",
       "</g>\n",
       "<g color=\"black\" fill=\"none\" stroke=\"currentColor\" stroke-linecap=\"butt\" stroke-linejoin=\"miter\" stroke-width=\"0.50\">\n",
       "\t<path d=\"M37.2,381.6 L543.1,381.6  \" stroke=\"rgb( 38,  38,  38)\"/></g>\n",
       "<g color=\"black\" fill=\"none\" stroke=\"currentColor\" stroke-linecap=\"butt\" stroke-linejoin=\"miter\" stroke-width=\"0.50\">\n",
       "\t<path d=\"M37.2,381.6 L37.2,11.3  \" stroke=\"rgb( 38,  38,  38)\"/></g>\n",
       "<g color=\"black\" fill=\"none\" stroke=\"rgb( 38,  38,  38)\" stroke-linecap=\"butt\" stroke-linejoin=\"miter\" stroke-width=\"1.00\">\n",
       "</g>\n",
       "<g color=\"black\" fill=\"none\" stroke=\"currentColor\" stroke-linecap=\"butt\" stroke-linejoin=\"miter\" stroke-width=\"1.00\">\n",
       "</g>\n",
       "</g>\n",
       "</svg>"
      ],
      "text/plain": [
       "<IPython.core.display.SVG object>"
      ]
     },
     "metadata": {},
     "output_type": "display_data"
    }
   ],
   "source": [
    "% Plotting data to see our data\n",
    "fprintf('Plotting Data ... \\n');\n",
    "hold on;\n",
    "plotData(X, y);"
   ]
  },
  {
   "cell_type": "code",
   "execution_count": 52,
   "metadata": {
    "collapsed": false
   },
   "outputs": [
    {
     "name": "stdout",
     "output_type": "stream",
     "text": [
      "Running Gradient Descent ...\n"
     ]
    }
   ],
   "source": [
    "fprintf('Running Gradient Descent ...\\n')\n",
    "% Add a column of ones to X\n",
    "X = [ones(m,1), data(:,1)];\n",
    "% Initialize fitting parameters\n",
    "theta = zeros(2,1);"
   ]
  },
  {
   "cell_type": "code",
   "execution_count": 53,
   "metadata": {
    "collapsed": true
   },
   "outputs": [],
   "source": [
    "% Set gradient descent parameters\n",
    "% learning rate:\n",
    "alpha = 0.01;\n",
    "iterations = 1500;"
   ]
  },
  {
   "cell_type": "code",
   "execution_count": 54,
   "metadata": {
    "collapsed": false
   },
   "outputs": [],
   "source": [
    "% compute and display initial cost\n",
    "computeCost(X, y, theta);"
   ]
  },
  {
   "cell_type": "code",
   "execution_count": 55,
   "metadata": {
    "collapsed": false
   },
   "outputs": [
    {
     "name": "stdout",
     "output_type": "stream",
     "text": [
      " 4.4834\n"
     ]
    }
   ],
   "source": [
    "% Run gradient descent\n",
    "theta = gradientDescent(X, y, theta, alpha, iterations);"
   ]
  },
  {
   "cell_type": "code",
   "execution_count": 56,
   "metadata": {
    "collapsed": false
   },
   "outputs": [
    {
     "name": "stdout",
     "output_type": "stream",
     "text": [
      "Theta found by gradient descent: \n",
      "-3.630291 1.166362 \n",
      "Theta found by gradient descent: \n"
     ]
    }
   ],
   "source": [
    "% print theta to screen\n",
    "fprintf('Theta found by gradient descent: ');\n",
    "fprintf('%f %f \\n', theta(1), theta(2));"
   ]
  },
  {
   "cell_type": "code",
   "execution_count": 57,
   "metadata": {
    "collapsed": false,
    "scrolled": false
   },
   "outputs": [
    {
     "name": "stdout",
     "output_type": "stream",
     "text": [
      "warning: legend: ignoring extra labels\n",
      "warning: called from\n",
      "    legend at line 428 column 9\n"
     ]
    },
    {
     "data": {
      "image/svg+xml": [
       "<svg height=\"420px\" viewBox=\"0 0 560 420\" width=\"560px\" xmlns=\"http://www.w3.org/2000/svg\" xmlns:xlink=\"http://www.w3.org/1999/xlink\">\n",
       "\n",
       "<title>Gnuplot</title>\n",
       "<desc>Produced by GNUPLOT 5.0 patchlevel 5 </desc>\n",
       "\n",
       "<g id=\"gnuplot_canvas\">\n",
       "\n",
       "<rect fill=\"#ffffff\" height=\"420\" width=\"560\" x=\"0\" y=\"0\"/>\n",
       "<defs>\n",
       "\n",
       "\t<circle id=\"gpDot\" r=\"0.5\" stroke-width=\"0.5\"/>\n",
       "\t<path d=\"M-1,0 h2 M0,-1 v2\" id=\"gpPt0\" stroke=\"currentColor\" stroke-width=\"0.333\"/>\n",
       "\t<path d=\"M-1,-1 L1,1 M1,-1 L-1,1\" id=\"gpPt1\" stroke=\"currentColor\" stroke-width=\"0.333\"/>\n",
       "\t<path d=\"M-1,0 L1,0 M0,-1 L0,1 M-1,-1 L1,1 M-1,1 L1,-1\" id=\"gpPt2\" stroke=\"currentColor\" stroke-width=\"0.333\"/>\n",
       "\t<rect height=\"2\" id=\"gpPt3\" stroke=\"currentColor\" stroke-width=\"0.333\" width=\"2\" x=\"-1\" y=\"-1\"/>\n",
       "\t<rect fill=\"currentColor\" height=\"2\" id=\"gpPt4\" stroke=\"currentColor\" stroke-width=\"0.333\" width=\"2\" x=\"-1\" y=\"-1\"/>\n",
       "\t<circle cx=\"0\" cy=\"0\" id=\"gpPt5\" r=\"1\" stroke=\"currentColor\" stroke-width=\"0.333\"/>\n",
       "\t<use fill=\"currentColor\" id=\"gpPt6\" stroke=\"none\" xlink:href=\"#gpPt5\"/>\n",
       "\t<path d=\"M0,-1.33 L-1.33,0.67 L1.33,0.67 z\" id=\"gpPt7\" stroke=\"currentColor\" stroke-width=\"0.333\"/>\n",
       "\t<use fill=\"currentColor\" id=\"gpPt8\" stroke=\"none\" xlink:href=\"#gpPt7\"/>\n",
       "\t<use id=\"gpPt9\" stroke=\"currentColor\" transform=\"rotate(180)\" xlink:href=\"#gpPt7\"/>\n",
       "\t<use fill=\"currentColor\" id=\"gpPt10\" stroke=\"none\" xlink:href=\"#gpPt9\"/>\n",
       "\t<use id=\"gpPt11\" stroke=\"currentColor\" transform=\"rotate(45)\" xlink:href=\"#gpPt3\"/>\n",
       "\t<use fill=\"currentColor\" id=\"gpPt12\" stroke=\"none\" xlink:href=\"#gpPt11\"/>\n",
       "\t<path d=\"M0,1.330 L1.265,0.411 L0.782,-1.067 L-0.782,-1.076 L-1.265,0.411 z\" id=\"gpPt13\" stroke=\"currentColor\" stroke-width=\"0.333\"/>\n",
       "\t<use fill=\"currentColor\" id=\"gpPt14\" stroke=\"none\" xlink:href=\"#gpPt13\"/>\n",
       "\t<filter filterUnits=\"objectBoundingBox\" height=\"1\" id=\"textbox\" width=\"1\" x=\"0\" y=\"0\">\n",
       "\t  <feFlood flood-color=\"#FFFFFF\" flood-opacity=\"1\" result=\"bgnd\"/>\n",
       "\t  <feComposite in=\"SourceGraphic\" in2=\"bgnd\" operator=\"atop\"/>\n",
       "\t</filter>\n",
       "\t<filter filterUnits=\"objectBoundingBox\" height=\"1\" id=\"greybox\" width=\"1\" x=\"0\" y=\"0\">\n",
       "\t  <feFlood flood-color=\"lightgrey\" flood-opacity=\"1\" result=\"grey\"/>\n",
       "\t  <feComposite in=\"SourceGraphic\" in2=\"grey\" operator=\"atop\"/>\n",
       "\t</filter>\n",
       "</defs>\n",
       "<g color=\"#FFFFFF\" fill=\"none\" stroke=\"currentColor\" stroke-linecap=\"butt\" stroke-linejoin=\"miter\" stroke-width=\"1.00\">\n",
       "</g>\n",
       "<g color=\"black\" fill=\"none\" stroke=\"currentColor\" stroke-linecap=\"butt\" stroke-linejoin=\"miter\" stroke-width=\"1.00\">\n",
       "\t<g shape-rendering=\"crispEdges\" stroke=\"none\">\n",
       "\t\t<polygon fill=\"rgb(255, 255, 255)\" points=\"25.2,396.0 543.0,396.0 543.0,11.4 25.2,11.4 \"/>\n",
       "\t</g>\n",
       "</g>\n",
       "<g color=\"black\" fill=\"none\" stroke=\"currentColor\" stroke-linecap=\"butt\" stroke-linejoin=\"miter\" stroke-width=\"1.00\">\n",
       "\t<path d=\"M25.2,396.0 L33.6,396.0 M543.1,396.0 L534.7,396.0  \" stroke=\"rgb(  0,   0,   0)\"/>\t<g fill=\"rgb(38,38,38)\" font-family=\"Arial\" font-size=\"10.00\" stroke=\"none\" text-anchor=\"end\" transform=\"translate(19.6,399.3)\">\n",
       "\t\t<text><tspan font-family=\"Arial\">0</tspan></text>\n",
       "\t</g>\n",
       "</g>\n",
       "<g color=\"black\" fill=\"none\" stroke=\"currentColor\" stroke-linecap=\"butt\" stroke-linejoin=\"miter\" stroke-width=\"1.00\">\n",
       "\t<path d=\"M25.2,319.1 L33.6,319.1 M543.1,319.1 L534.7,319.1  \" stroke=\"rgb(  0,   0,   0)\"/>\t<g fill=\"rgb(38,38,38)\" font-family=\"Arial\" font-size=\"10.00\" stroke=\"none\" text-anchor=\"end\" transform=\"translate(19.6,322.4)\">\n",
       "\t\t<text><tspan font-family=\"Arial\">5</tspan></text>\n",
       "\t</g>\n",
       "</g>\n",
       "<g color=\"black\" fill=\"none\" stroke=\"currentColor\" stroke-linecap=\"butt\" stroke-linejoin=\"miter\" stroke-width=\"1.00\">\n",
       "\t<path d=\"M25.2,242.1 L33.6,242.1 M543.1,242.1 L534.7,242.1  \" stroke=\"rgb(  0,   0,   0)\"/>\t<g fill=\"rgb(38,38,38)\" font-family=\"Arial\" font-size=\"10.00\" stroke=\"none\" text-anchor=\"end\" transform=\"translate(19.6,245.4)\">\n",
       "\t\t<text><tspan font-family=\"Arial\">10</tspan></text>\n",
       "\t</g>\n",
       "</g>\n",
       "<g color=\"black\" fill=\"none\" stroke=\"currentColor\" stroke-linecap=\"butt\" stroke-linejoin=\"miter\" stroke-width=\"1.00\">\n",
       "\t<path d=\"M25.2,165.2 L33.6,165.2 M543.1,165.2 L534.7,165.2  \" stroke=\"rgb(  0,   0,   0)\"/>\t<g fill=\"rgb(38,38,38)\" font-family=\"Arial\" font-size=\"10.00\" stroke=\"none\" text-anchor=\"end\" transform=\"translate(19.6,168.5)\">\n",
       "\t\t<text><tspan font-family=\"Arial\">15</tspan></text>\n",
       "\t</g>\n",
       "</g>\n",
       "<g color=\"black\" fill=\"none\" stroke=\"currentColor\" stroke-linecap=\"butt\" stroke-linejoin=\"miter\" stroke-width=\"1.00\">\n",
       "\t<path d=\"M25.2,88.2 L33.6,88.2 M543.1,88.2 L534.7,88.2  \" stroke=\"rgb(  0,   0,   0)\"/>\t<g fill=\"rgb(38,38,38)\" font-family=\"Arial\" font-size=\"10.00\" stroke=\"none\" text-anchor=\"end\" transform=\"translate(19.6,91.5)\">\n",
       "\t\t<text><tspan font-family=\"Arial\">20</tspan></text>\n",
       "\t</g>\n",
       "</g>\n",
       "<g color=\"black\" fill=\"none\" stroke=\"currentColor\" stroke-linecap=\"butt\" stroke-linejoin=\"miter\" stroke-width=\"1.00\">\n",
       "\t<path d=\"M25.2,11.3 L33.6,11.3 M543.1,11.3 L534.7,11.3  \" stroke=\"rgb(  0,   0,   0)\"/>\t<g fill=\"rgb(38,38,38)\" font-family=\"Arial\" font-size=\"10.00\" stroke=\"none\" text-anchor=\"end\" transform=\"translate(19.6,14.6)\">\n",
       "\t\t<text><tspan font-family=\"Arial\">25</tspan></text>\n",
       "\t</g>\n",
       "</g>\n",
       "<g color=\"black\" fill=\"none\" stroke=\"currentColor\" stroke-linecap=\"butt\" stroke-linejoin=\"miter\" stroke-width=\"1.00\">\n",
       "\t<path d=\"M25.2,396.0 L25.2,387.6 M25.2,11.3 L25.2,19.7  \" stroke=\"rgb(  0,   0,   0)\"/>\t<g fill=\"rgb(38,38,38)\" font-family=\"Arial\" font-size=\"10.00\" stroke=\"none\" text-anchor=\"middle\" transform=\"translate(25.2,411.3)\">\n",
       "\t\t<text><tspan font-family=\"Arial\">5</tspan></text>\n",
       "\t</g>\n",
       "</g>\n",
       "<g color=\"black\" fill=\"none\" stroke=\"currentColor\" stroke-linecap=\"butt\" stroke-linejoin=\"miter\" stroke-width=\"1.00\">\n",
       "\t<path d=\"M154.7,396.0 L154.7,387.6 M154.7,11.3 L154.7,19.7  \" stroke=\"rgb(  0,   0,   0)\"/>\t<g fill=\"rgb(38,38,38)\" font-family=\"Arial\" font-size=\"10.00\" stroke=\"none\" text-anchor=\"middle\" transform=\"translate(154.7,411.3)\">\n",
       "\t\t<text><tspan font-family=\"Arial\">10</tspan></text>\n",
       "\t</g>\n",
       "</g>\n",
       "<g color=\"black\" fill=\"none\" stroke=\"currentColor\" stroke-linecap=\"butt\" stroke-linejoin=\"miter\" stroke-width=\"1.00\">\n",
       "\t<path d=\"M284.2,396.0 L284.2,387.6 M284.2,11.3 L284.2,19.7  \" stroke=\"rgb(  0,   0,   0)\"/>\t<g fill=\"rgb(38,38,38)\" font-family=\"Arial\" font-size=\"10.00\" stroke=\"none\" text-anchor=\"middle\" transform=\"translate(284.2,411.3)\">\n",
       "\t\t<text><tspan font-family=\"Arial\">15</tspan></text>\n",
       "\t</g>\n",
       "</g>\n",
       "<g color=\"black\" fill=\"none\" stroke=\"currentColor\" stroke-linecap=\"butt\" stroke-linejoin=\"miter\" stroke-width=\"1.00\">\n",
       "\t<path d=\"M413.6,396.0 L413.6,387.6 M413.6,11.3 L413.6,19.7  \" stroke=\"rgb(  0,   0,   0)\"/>\t<g fill=\"rgb(38,38,38)\" font-family=\"Arial\" font-size=\"10.00\" stroke=\"none\" text-anchor=\"middle\" transform=\"translate(413.6,411.3)\">\n",
       "\t\t<text><tspan font-family=\"Arial\">20</tspan></text>\n",
       "\t</g>\n",
       "</g>\n",
       "<g color=\"black\" fill=\"none\" stroke=\"currentColor\" stroke-linecap=\"butt\" stroke-linejoin=\"miter\" stroke-width=\"1.00\">\n",
       "\t<path d=\"M543.1,396.0 L543.1,387.6 M543.1,11.3 L543.1,19.7  \" stroke=\"rgb(  0,   0,   0)\"/>\t<g fill=\"rgb(38,38,38)\" font-family=\"Arial\" font-size=\"10.00\" stroke=\"none\" text-anchor=\"middle\" transform=\"translate(543.1,411.3)\">\n",
       "\t\t<text><tspan font-family=\"Arial\">25</tspan></text>\n",
       "\t</g>\n",
       "</g>\n",
       "<g color=\"black\" fill=\"none\" stroke=\"currentColor\" stroke-linecap=\"butt\" stroke-linejoin=\"miter\" stroke-width=\"1.00\">\n",
       "</g>\n",
       "<g color=\"black\" fill=\"none\" stroke=\"currentColor\" stroke-linecap=\"butt\" stroke-linejoin=\"miter\" stroke-width=\"1.00\">\n",
       "</g>\n",
       "<g color=\"black\" fill=\"none\" stroke=\"currentColor\" stroke-linecap=\"butt\" stroke-linejoin=\"miter\" stroke-width=\"1.00\">\n",
       "\t<path d=\"M398.5,36.0 L398.5,17.3 L537.5,17.3 L537.5,36.0 L398.5,36.0 Z  \" stroke=\"black\"/></g>\n",
       "\t<g id=\"gnuplot_plot_1a\"><title>Training data</title>\n",
       "<g color=\"#FFFFFF\" fill=\"none\" stroke=\"black\" stroke-linecap=\"butt\" stroke-linejoin=\"miter\" stroke-width=\"0.50\">\n",
       "</g>\n",
       "<g color=\"black\" fill=\"none\" stroke=\"currentColor\" stroke-linecap=\"butt\" stroke-linejoin=\"miter\" stroke-width=\"0.50\">\n",
       "\t<g fill=\"rgb(0,0,0)\" font-family=\"Arial\" font-size=\"10.00\" stroke=\"none\" text-anchor=\"start\" transform=\"translate(446.5,30.0)\">\n",
       "\t\t<text><tspan font-family=\"Arial\">Training data</tspan></text>\n",
       "\t</g>\n",
       "</g>\n",
       "<g color=\"black\" fill=\"none\" stroke=\"currentColor\" stroke-linecap=\"butt\" stroke-linejoin=\"miter\" stroke-width=\"0.50\">\n",
       "\t<path d=\"M405.5,26.7 L439.5,26.7 M53.9,342.2 L38.9,352.7 L116.3,299.0 L77.1,326.2 L47.5,346.7 L112.8,301.4   L89.3,317.7 L117.9,297.9 L63.7,335.4 L26.6,361.1 L43.6,349.4 L262.5,197.6 L44.2,348.9 L113.5,300.9   L41.8,350.6 L35.0,355.3 L60.6,337.6 L28.6,359.8 L62.2,336.5 L78.8,325.0 L56.0,340.8 L420.6,88.1   L37.9,353.3 L59.5,338.3 L39.8,352.0 L386.3,111.8 L227.9,221.6 L179.5,255.2 L236.9,215.4 L470.7,53.4   L31.7,357.6 L66.4,333.6 L135.2,285.9 L48.3,346.1 L108.4,304.5 L101.2,309.5 L105.4,306.6 L40.9,351.2   L228.1,221.5 L60.2,337.8 L35.7,354.8 L73.9,328.3 L198.9,241.7 L45.2,348.2 L98.3,311.4 L79.4,324.6   L27.0,360.9 L46.0,347.7 L198.7,241.9 L39.2,352.4 L91.0,316.5 L33.2,356.6 L88.0,318.6 L92.6,315.4   L59.7,338.2 L60.4,337.7 L58.2,339.3 L41.8,350.6 L136.8,284.8 L140.5,282.2 L124.3,293.5 L29.8,358.9   L446.7,69.9 L281.8,184.3 L386.7,111.6 L82.6,322.3 L110.5,303.0 L160.8,268.1 L38.1,353.2 L422.5,86.8   L158.2,269.9 L85.7,320.2 L51.3,344.1 L82.8,322.2 L25.9,361.6 L65.3,334.3 L90.9,316.6 L26.1,361.5   L161.8,267.5 L28.0,360.2 L44.1,349.0 L30.1,358.7 L60.3,337.8 L148.7,276.5 L64.5,334.9 L116.3,299.0   L133.4,287.1 L51.1,344.1 L38.7,352.8 L26.7,361.1 L43.5,349.4 L93.5,314.8 L47.7,346.5 L33.1,356.6   L110.5,303.0 L242.6,211.5 L36.5,354.3  \" stroke=\"rgb(  0, 114, 189)\"/></g>\n",
       "\t</g>\n",
       "<g color=\"#FFFFFF\" fill=\"none\" stroke=\"rgb(  0, 114, 189)\" stroke-linecap=\"butt\" stroke-linejoin=\"miter\" stroke-width=\"2.00\">\n",
       "</g>\n",
       "<g color=\"black\" fill=\"none\" stroke=\"currentColor\" stroke-linecap=\"butt\" stroke-linejoin=\"miter\" stroke-width=\"2.00\">\n",
       "</g>\n",
       "<g color=\"black\" fill=\"none\" stroke=\"black\" stroke-linecap=\"butt\" stroke-linejoin=\"miter\" stroke-width=\"0.50\">\n",
       "</g>\n",
       "<g color=\"black\" fill=\"none\" stroke=\"currentColor\" stroke-linecap=\"butt\" stroke-linejoin=\"miter\" stroke-width=\"0.50\">\n",
       "\t<path d=\"M25.2,396.0 L543.1,396.0  \" stroke=\"rgb( 38,  38,  38)\"/></g>\n",
       "<g color=\"black\" fill=\"none\" stroke=\"currentColor\" stroke-linecap=\"butt\" stroke-linejoin=\"miter\" stroke-width=\"0.50\">\n",
       "\t<path d=\"M25.2,11.3 L543.1,11.3  \" stroke=\"rgb( 38,  38,  38)\"/></g>\n",
       "<g color=\"black\" fill=\"none\" stroke=\"currentColor\" stroke-linecap=\"butt\" stroke-linejoin=\"miter\" stroke-width=\"0.50\">\n",
       "\t<path d=\"M25.2,396.0 L25.2,11.3  \" stroke=\"rgb( 38,  38,  38)\"/></g>\n",
       "<g color=\"black\" fill=\"none\" stroke=\"currentColor\" stroke-linecap=\"butt\" stroke-linejoin=\"miter\" stroke-width=\"0.50\">\n",
       "\t<path d=\"M543.1,396.0 L543.1,11.3  \" stroke=\"rgb( 38,  38,  38)\"/></g>\n",
       "<g color=\"black\" fill=\"none\" stroke=\"rgb( 38,  38,  38)\" stroke-linecap=\"butt\" stroke-linejoin=\"miter\" stroke-width=\"1.00\">\n",
       "</g>\n",
       "<g color=\"black\" fill=\"none\" stroke=\"currentColor\" stroke-linecap=\"butt\" stroke-linejoin=\"miter\" stroke-width=\"1.00\">\n",
       "</g>\n",
       "</g>\n",
       "</svg>"
      ],
      "text/plain": [
       "<IPython.core.display.SVG object>"
      ]
     },
     "metadata": {},
     "output_type": "display_data"
    }
   ],
   "source": [
    "% Plotting the linear fit\n",
    "plot(X(:,2), X*theta, '-')\n",
    "legend('Training data', 'Linear regression')\n",
    "hold off; % Don't overlay any more plots on this figure"
   ]
  },
  {
   "cell_type": "code",
   "execution_count": null,
   "metadata": {
    "collapsed": true
   },
   "outputs": [],
   "source": []
  }
 ],
 "metadata": {
  "anaconda-cloud": {},
  "kernelspec": {
   "display_name": "Octave",
   "language": "octave",
   "name": "octave"
  },
  "language_info": {
   "file_extension": ".m",
   "help_links": [
    {
     "text": "GNU Octave",
     "url": "https://www.gnu.org/software/octave/support.html"
    },
    {
     "text": "Octave Kernel",
     "url": "https://github.com/Calysto/octave_kernel"
    },
    {
     "text": "MetaKernel Magics",
     "url": "https://github.com/calysto/metakernel/blob/master/metakernel/magics/README.md"
    }
   ],
   "mimetype": "text/x-octave",
   "name": "octave",
   "version": "4.2.0"
  }
 },
 "nbformat": 4,
 "nbformat_minor": 1
}
